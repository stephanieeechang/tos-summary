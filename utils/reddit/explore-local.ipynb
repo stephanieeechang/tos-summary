{
 "cells": [
  {
   "cell_type": "code",
   "execution_count": 11,
   "metadata": {
    "collapsed": true
   },
   "outputs": [],
   "source": [
    "import os\n",
    "import sys\n",
    "from pathlib import Path\n",
    "from os import PathLike\n",
    "\n",
    "\n",
    "import json\n",
    "from pathlib import Path\n",
    "from typing import List\n",
    "\n",
    "import numpy as np\n",
    "import pandas as pd\n",
    "import matplotlib.pyplot as plt\n"
   ]
  },
  {
   "cell_type": "code",
   "execution_count": 7,
   "outputs": [
    {
     "name": "stdout",
     "output_type": "stream",
     "text": [
      "E:\\gatech\\courses\\cs-6471-computational-social-science\\project\\utils\\reddit\\data\\PushShiftAndRedditAPICrawler-output\n"
     ]
    },
    {
     "data": {
      "text/plain": "'E:\\\\gatech\\\\courses\\\\cs-6471-computational-social-science\\\\project\\\\utils\\\\reddit\\\\data\\\\PushShiftAndRedditAPICrawler-output\\\\q=privacy+policy&before=1546923600&after=1546318800&size=100&fields=id-t3_abhq6i.json'"
     },
     "execution_count": 7,
     "metadata": {},
     "output_type": "execute_result"
    }
   ],
   "source": [
    "data_dir = Path.cwd() / 'data/PushShiftAndRedditAPICrawler-output'\n",
    "print(str(data_dir))\n",
    "data_files: List[Path] = list(data_dir.glob('*.json'))\n",
    "str(data_files[0])"
   ],
   "metadata": {
    "collapsed": false,
    "pycharm": {
     "name": "#%%\n"
    }
   }
  },
  {
   "cell_type": "markdown",
   "source": [
    "## build a collection of documents from the submission bodies"
   ],
   "metadata": {
    "collapsed": false
   }
  },
  {
   "cell_type": "code",
   "execution_count": 8,
   "outputs": [],
   "source": [
    "submissions = []\n",
    "for f in data_files:\n",
    "    data = json.load(f.open('r', encoding='utf-8'))\n",
    "    submission = data['submission']['data']\n",
    "    submissions.append(submission)"
   ],
   "metadata": {
    "collapsed": false,
    "pycharm": {
     "name": "#%%\n"
    }
   }
  },
  {
   "cell_type": "code",
   "execution_count": 12,
   "outputs": [
    {
     "data": {
      "text/plain": "  approved_at_utc              subreddit  \\\n0            None                privacy   \n1            None       unpopularopinion   \n2            None                  india   \n3            None  TheLibertarianProject   \n4            None       FireWallZeroHour   \n\n                                            selftext user_reports  saved  \\\n0                                          [deleted]           []  False   \n1  This post will bring me a lot of downvotes but...           []  False   \n2                                          [deleted]           []  False   \n3                                                              []  False   \n4  \\n\\n￼\\n\\nLATEST NEWS\\n\\nFirewall Zero Hour Dev...           []  False   \n\n  mod_reason_title  gilded  clicked  \\\n0             None       0    False   \n1             None       0    False   \n2             None       0    False   \n3             None       0    False   \n4             None       0    False   \n\n                                               title  \\\n0                       Anyone tried Jami Messenger?   \n1   This is why i hate Discord and you should to! :/   \n2                     Ola's Privacy Policy is creepy   \n3  Data Privacy Scandals and Public Policy Pickin...   \n4                                       Nice to know   \n\n                          link_flair_richtext  ... events  embed_url  \\\n0                                          []  ...    NaN        NaN   \n1                                          []  ...    NaN        NaN   \n2  [{'e': 'text', 't': 'Science/Technology'}]  ...    NaN        NaN   \n3                                          []  ...    NaN        NaN   \n4                                          []  ...    NaN        NaN   \n\n   third_party_tracking_2 embed_type  poll_data  is_gallery gallery_data  \\\n0                     NaN        NaN        NaN         NaN          NaN   \n1                     NaN        NaN        NaN         NaN          NaN   \n2                     NaN        NaN        NaN         NaN          NaN   \n3                     NaN        NaN        NaN         NaN          NaN   \n4                     NaN        NaN        NaN         NaN          NaN   \n\n  event_start  event_end event_is_live  \n0         NaN        NaN           NaN  \n1         NaN        NaN           NaN  \n2         NaN        NaN           NaN  \n3         NaN        NaN           NaN  \n4         NaN        NaN           NaN  \n\n[5 rows x 149 columns]",
      "text/html": "<div>\n<style scoped>\n    .dataframe tbody tr th:only-of-type {\n        vertical-align: middle;\n    }\n\n    .dataframe tbody tr th {\n        vertical-align: top;\n    }\n\n    .dataframe thead th {\n        text-align: right;\n    }\n</style>\n<table border=\"1\" class=\"dataframe\">\n  <thead>\n    <tr style=\"text-align: right;\">\n      <th></th>\n      <th>approved_at_utc</th>\n      <th>subreddit</th>\n      <th>selftext</th>\n      <th>user_reports</th>\n      <th>saved</th>\n      <th>mod_reason_title</th>\n      <th>gilded</th>\n      <th>clicked</th>\n      <th>title</th>\n      <th>link_flair_richtext</th>\n      <th>...</th>\n      <th>events</th>\n      <th>embed_url</th>\n      <th>third_party_tracking_2</th>\n      <th>embed_type</th>\n      <th>poll_data</th>\n      <th>is_gallery</th>\n      <th>gallery_data</th>\n      <th>event_start</th>\n      <th>event_end</th>\n      <th>event_is_live</th>\n    </tr>\n  </thead>\n  <tbody>\n    <tr>\n      <th>0</th>\n      <td>None</td>\n      <td>privacy</td>\n      <td>[deleted]</td>\n      <td>[]</td>\n      <td>False</td>\n      <td>None</td>\n      <td>0</td>\n      <td>False</td>\n      <td>Anyone tried Jami Messenger?</td>\n      <td>[]</td>\n      <td>...</td>\n      <td>NaN</td>\n      <td>NaN</td>\n      <td>NaN</td>\n      <td>NaN</td>\n      <td>NaN</td>\n      <td>NaN</td>\n      <td>NaN</td>\n      <td>NaN</td>\n      <td>NaN</td>\n      <td>NaN</td>\n    </tr>\n    <tr>\n      <th>1</th>\n      <td>None</td>\n      <td>unpopularopinion</td>\n      <td>This post will bring me a lot of downvotes but...</td>\n      <td>[]</td>\n      <td>False</td>\n      <td>None</td>\n      <td>0</td>\n      <td>False</td>\n      <td>This is why i hate Discord and you should to! :/</td>\n      <td>[]</td>\n      <td>...</td>\n      <td>NaN</td>\n      <td>NaN</td>\n      <td>NaN</td>\n      <td>NaN</td>\n      <td>NaN</td>\n      <td>NaN</td>\n      <td>NaN</td>\n      <td>NaN</td>\n      <td>NaN</td>\n      <td>NaN</td>\n    </tr>\n    <tr>\n      <th>2</th>\n      <td>None</td>\n      <td>india</td>\n      <td>[deleted]</td>\n      <td>[]</td>\n      <td>False</td>\n      <td>None</td>\n      <td>0</td>\n      <td>False</td>\n      <td>Ola's Privacy Policy is creepy</td>\n      <td>[{'e': 'text', 't': 'Science/Technology'}]</td>\n      <td>...</td>\n      <td>NaN</td>\n      <td>NaN</td>\n      <td>NaN</td>\n      <td>NaN</td>\n      <td>NaN</td>\n      <td>NaN</td>\n      <td>NaN</td>\n      <td>NaN</td>\n      <td>NaN</td>\n      <td>NaN</td>\n    </tr>\n    <tr>\n      <th>3</th>\n      <td>None</td>\n      <td>TheLibertarianProject</td>\n      <td></td>\n      <td>[]</td>\n      <td>False</td>\n      <td>None</td>\n      <td>0</td>\n      <td>False</td>\n      <td>Data Privacy Scandals and Public Policy Pickin...</td>\n      <td>[]</td>\n      <td>...</td>\n      <td>NaN</td>\n      <td>NaN</td>\n      <td>NaN</td>\n      <td>NaN</td>\n      <td>NaN</td>\n      <td>NaN</td>\n      <td>NaN</td>\n      <td>NaN</td>\n      <td>NaN</td>\n      <td>NaN</td>\n    </tr>\n    <tr>\n      <th>4</th>\n      <td>None</td>\n      <td>FireWallZeroHour</td>\n      <td>\\n\\n￼\\n\\nLATEST NEWS\\n\\nFirewall Zero Hour Dev...</td>\n      <td>[]</td>\n      <td>False</td>\n      <td>None</td>\n      <td>0</td>\n      <td>False</td>\n      <td>Nice to know</td>\n      <td>[]</td>\n      <td>...</td>\n      <td>NaN</td>\n      <td>NaN</td>\n      <td>NaN</td>\n      <td>NaN</td>\n      <td>NaN</td>\n      <td>NaN</td>\n      <td>NaN</td>\n      <td>NaN</td>\n      <td>NaN</td>\n      <td>NaN</td>\n    </tr>\n  </tbody>\n</table>\n<p>5 rows × 149 columns</p>\n</div>"
     },
     "execution_count": 12,
     "metadata": {},
     "output_type": "execute_result"
    }
   ],
   "source": [
    "df_submissions = pd.DataFrame(submissions)\n",
    "df_submissions.head()"
   ],
   "metadata": {
    "collapsed": false,
    "pycharm": {
     "name": "#%%\n"
    }
   }
  },
  {
   "cell_type": "code",
   "execution_count": 21,
   "outputs": [
    {
     "data": {
      "text/plain": "  approved_at_utc         subreddit  \\\n1            None  unpopularopinion   \n4            None  FireWallZeroHour   \n6            None          HailData   \n8            None     AmItheAsshole   \n9            None            myrXiv   \n\n                                            selftext user_reports  saved  \\\n1  This post will bring me a lot of downvotes but...           []  False   \n4  \\n\\n￼\\n\\nLATEST NEWS\\n\\nFirewall Zero Hour Dev...           []  False   \n6  Let's narrow the focus of r/HailData to\\n\\n***...           []  False   \n8  So, a bit of backstory: \\n\\nI am a violinist, ...           []  False   \n9  [Cryptology ePrint Archive: Report 2018/415](h...           []  False   \n\n  mod_reason_title  gilded  clicked  \\\n1             None       0    False   \n4             None       0    False   \n6             None       0    False   \n8             None       0    False   \n9             None       0    False   \n\n                                               title link_flair_richtext  ...  \\\n1   This is why i hate Discord and you should to! :/                  []  ...   \n4                                       Nice to know                  []  ...   \n6                      The Future of HailData (2019)                  []  ...   \n8  AITA for getting mad when people compliment my...                  []  ...   \n9  Flux: Revisiting Near Blocks for Proof-of-Work...                  []  ...   \n\n  events  embed_url  third_party_tracking_2 embed_type  poll_data  is_gallery  \\\n1    NaN        NaN                     NaN        NaN        NaN         NaN   \n4    NaN        NaN                     NaN        NaN        NaN         NaN   \n6    NaN        NaN                     NaN        NaN        NaN         NaN   \n8    NaN        NaN                     NaN        NaN        NaN         NaN   \n9    NaN        NaN                     NaN        NaN        NaN         NaN   \n\n  gallery_data event_start  event_end event_is_live  \n1          NaN         NaN        NaN           NaN  \n4          NaN         NaN        NaN           NaN  \n6          NaN         NaN        NaN           NaN  \n8          NaN         NaN        NaN           NaN  \n9          NaN         NaN        NaN           NaN  \n\n[5 rows x 149 columns]",
      "text/html": "<div>\n<style scoped>\n    .dataframe tbody tr th:only-of-type {\n        vertical-align: middle;\n    }\n\n    .dataframe tbody tr th {\n        vertical-align: top;\n    }\n\n    .dataframe thead th {\n        text-align: right;\n    }\n</style>\n<table border=\"1\" class=\"dataframe\">\n  <thead>\n    <tr style=\"text-align: right;\">\n      <th></th>\n      <th>approved_at_utc</th>\n      <th>subreddit</th>\n      <th>selftext</th>\n      <th>user_reports</th>\n      <th>saved</th>\n      <th>mod_reason_title</th>\n      <th>gilded</th>\n      <th>clicked</th>\n      <th>title</th>\n      <th>link_flair_richtext</th>\n      <th>...</th>\n      <th>events</th>\n      <th>embed_url</th>\n      <th>third_party_tracking_2</th>\n      <th>embed_type</th>\n      <th>poll_data</th>\n      <th>is_gallery</th>\n      <th>gallery_data</th>\n      <th>event_start</th>\n      <th>event_end</th>\n      <th>event_is_live</th>\n    </tr>\n  </thead>\n  <tbody>\n    <tr>\n      <th>1</th>\n      <td>None</td>\n      <td>unpopularopinion</td>\n      <td>This post will bring me a lot of downvotes but...</td>\n      <td>[]</td>\n      <td>False</td>\n      <td>None</td>\n      <td>0</td>\n      <td>False</td>\n      <td>This is why i hate Discord and you should to! :/</td>\n      <td>[]</td>\n      <td>...</td>\n      <td>NaN</td>\n      <td>NaN</td>\n      <td>NaN</td>\n      <td>NaN</td>\n      <td>NaN</td>\n      <td>NaN</td>\n      <td>NaN</td>\n      <td>NaN</td>\n      <td>NaN</td>\n      <td>NaN</td>\n    </tr>\n    <tr>\n      <th>4</th>\n      <td>None</td>\n      <td>FireWallZeroHour</td>\n      <td>\\n\\n￼\\n\\nLATEST NEWS\\n\\nFirewall Zero Hour Dev...</td>\n      <td>[]</td>\n      <td>False</td>\n      <td>None</td>\n      <td>0</td>\n      <td>False</td>\n      <td>Nice to know</td>\n      <td>[]</td>\n      <td>...</td>\n      <td>NaN</td>\n      <td>NaN</td>\n      <td>NaN</td>\n      <td>NaN</td>\n      <td>NaN</td>\n      <td>NaN</td>\n      <td>NaN</td>\n      <td>NaN</td>\n      <td>NaN</td>\n      <td>NaN</td>\n    </tr>\n    <tr>\n      <th>6</th>\n      <td>None</td>\n      <td>HailData</td>\n      <td>Let's narrow the focus of r/HailData to\\n\\n***...</td>\n      <td>[]</td>\n      <td>False</td>\n      <td>None</td>\n      <td>0</td>\n      <td>False</td>\n      <td>The Future of HailData (2019)</td>\n      <td>[]</td>\n      <td>...</td>\n      <td>NaN</td>\n      <td>NaN</td>\n      <td>NaN</td>\n      <td>NaN</td>\n      <td>NaN</td>\n      <td>NaN</td>\n      <td>NaN</td>\n      <td>NaN</td>\n      <td>NaN</td>\n      <td>NaN</td>\n    </tr>\n    <tr>\n      <th>8</th>\n      <td>None</td>\n      <td>AmItheAsshole</td>\n      <td>So, a bit of backstory: \\n\\nI am a violinist, ...</td>\n      <td>[]</td>\n      <td>False</td>\n      <td>None</td>\n      <td>0</td>\n      <td>False</td>\n      <td>AITA for getting mad when people compliment my...</td>\n      <td>[]</td>\n      <td>...</td>\n      <td>NaN</td>\n      <td>NaN</td>\n      <td>NaN</td>\n      <td>NaN</td>\n      <td>NaN</td>\n      <td>NaN</td>\n      <td>NaN</td>\n      <td>NaN</td>\n      <td>NaN</td>\n      <td>NaN</td>\n    </tr>\n    <tr>\n      <th>9</th>\n      <td>None</td>\n      <td>myrXiv</td>\n      <td>[Cryptology ePrint Archive: Report 2018/415](h...</td>\n      <td>[]</td>\n      <td>False</td>\n      <td>None</td>\n      <td>0</td>\n      <td>False</td>\n      <td>Flux: Revisiting Near Blocks for Proof-of-Work...</td>\n      <td>[]</td>\n      <td>...</td>\n      <td>NaN</td>\n      <td>NaN</td>\n      <td>NaN</td>\n      <td>NaN</td>\n      <td>NaN</td>\n      <td>NaN</td>\n      <td>NaN</td>\n      <td>NaN</td>\n      <td>NaN</td>\n      <td>NaN</td>\n    </tr>\n  </tbody>\n</table>\n<p>5 rows × 149 columns</p>\n</div>"
     },
     "execution_count": 21,
     "metadata": {},
     "output_type": "execute_result"
    }
   ],
   "source": [
    "# do some cleaning\n",
    "df_submissions: pd.DataFrame = df_submissions[~((df_submissions['selftext'] == '[deleted]') | (df_submissions['selftext'] == '[removed]') | (df_submissions['selftext'] == ''))]\n",
    "df_submissions.head()"
   ],
   "metadata": {
    "collapsed": false,
    "pycharm": {
     "name": "#%%\n"
    }
   }
  },
  {
   "cell_type": "code",
   "execution_count": 22,
   "outputs": [
    {
     "data": {
      "text/plain": "\"This post will bring me a lot of downvotes but my need to express myself surpasses those.\\n\\nThe whole thing started with writing to discord support why the nitro (now nitro classic) is so expensive when this option came out. They said because its new... and wanted if i remember correctly 10$\\\\~\\n\\n&#x200B;\\n\\nNow after all this time they still want 60$ a year (12 x 5$\\\\~) that a price for a one time Triple A-Game/software titel payment (like red redemption 2 and so on). As for discord you get the feature FullHD( I shorten it to FH) screen share (all other program that support screenshare offer it for free for non commercial use, skype, team-viewer etc. !). custom emotes and uploading cap to 50 mb? Even telegram doing it for free. (I have no experience with whatsapp, snapchat or others) as for the rest of the nitro classic feature they aren’t even worth to mention for this pricetag. And for this pricetag they don’t even offer to stop collecting your data or stop keeping logs! As for this price I would expect the ability to stream in my channel and have a vpn server line.\\n\\n&#x200B;\\n\\n\\xa0So after a long time I wrote them again just regarding the screen share policy.\\n\\nThis is what I wrote:\\n\\n>“I really hate how you manage your feature policy regarding screen share.I mean\\n\\n1. every other voicechat program that support video (skype, team-viewer\\xa0etc.) have FH screen share for free, why we need to pay for it here in Discord?\\n2. Screen share is a basic feature that only works in a chat converence! Its not like I'am able to stream in any channel even when I pay for it!\\n\\n>As of now when I try to work on a project I need to switch to skype just to be able to share my screen in full resolution! Why would someone need to use 2 programs for similar purpose? As of how Discord is now I am willing to ditch Discord for Skype cause everything I do on Discord I can also do on Skype just better (for example FH screen share!). But I am hoping that Discord is changing to the right direction.  \\n>  \\n>I really loved discord in the beginning as a good lightweight program with good privacy and safe connection but now everything has changed. Its bloated, its collects data and the free users arent able to use the features anyway, so why do you not split the program in free community lightweight version and a paid feature rich version?”  \\n>  \\n>I got a friendly response that its not possible as of now because that is a payed feature of nitro and will pass it to the team. And suggested that I should post try to get upvote on [feedback.discordapp.com](http://feedback.discordapp.com/)\\xa0since “feedback contributes greatly to our decision making of which features and fixes to implement in the future based on what our community wants!”\\n\\nSo i tried that and\\n\\nAfter getting some interesting response from the discord feedback community like\\n\\n>“Interesting, I do however think that streaming 1080p high quality video would be considered as a pro feature even today, since streaming video is one of the most bandwidth consuming things you can do on the web.”  \\n>  \\n>“Discord is still a business after all. Clearly its something you want, so they want to charge money for it. Makes logical sense.”  \\n>  \\n>“That’s just gonna take away from the perks of subscribing to discord nitro.”\\n\\nI just though: discord business app now? am I able to use it commercially, will I have the ability to make money? so people pay 5$ a month to share screen in fullHD between 2 people what other program doing it for free + some minor extras as having gif? you guys really thing the nitro with all its feature is worth more than 0.80$ a month? for 5$ a month I get 500 free minutes, 500 sms and 5 Gib bandwidth/roaming for my phone. this business policy of discord is way worse than what EA did with Battlefront 2 or valve taking huge money for minimal content that is even bugged. and it seems the community (or even fake discord team acc) like to express their support and follow the downhill path. I am disappoint\\xa0in discord and its\\xa0feedback\\xa0community\\xa0and do absolutely not understand that no one beside me there want that to be a free feature. No matter how good discord will become one day, I will always\\xa0remember this money sucking mindset. that said, I now set to never ever pay any penny on discord with their mindset of sucking money for non existing value for what you get and want to tell the internet\\xa0whats going on my mind so they can tell all their other friends with the hope that all who would agree to my though ‘60$ a year for the feature they offer in nitro classic’\\xa0would do the same. As for FullHD screen share I will just use skype or Team-viewer for free from now on. as for all that support discord I am not judging you guys, everyone are free to do what they want with their money. Maybe I will start to gather knowledge how to make a app and finish the app in 3 years which surpass discord in every aspect and will give you all the classic nitro feature for free, you guys can spend your money on my app then\\xa0for the things that are actually worth that.\\n\\n&#x200B;\\n\\n&#x200B;\\n\\nNo bad feelings and happy new year!\\n\\n&#x200B;\\n\\n\\\\------\\n\\nedited out some part that are not appropriate. sadly I can not edit the titel if i could i would to  \\n\\n## This is why i hate Discord and why you could to! :/\""
     },
     "execution_count": 22,
     "metadata": {},
     "output_type": "execute_result"
    }
   ],
   "source": [
    "# build a corpus\n",
    "documents = df_submissions['selftext'].tolist()\n",
    "documents[0]"
   ],
   "metadata": {
    "collapsed": false,
    "pycharm": {
     "name": "#%%\n"
    }
   }
  },
  {
   "cell_type": "code",
   "execution_count": null,
   "outputs": [],
   "source": [],
   "metadata": {
    "collapsed": false,
    "pycharm": {
     "name": "#%%\n"
    }
   }
  }
 ],
 "metadata": {
  "kernelspec": {
   "display_name": "Python 3",
   "language": "python",
   "name": "python3"
  },
  "language_info": {
   "codemirror_mode": {
    "name": "ipython",
    "version": 2
   },
   "file_extension": ".py",
   "mimetype": "text/x-python",
   "name": "python",
   "nbconvert_exporter": "python",
   "pygments_lexer": "ipython2",
   "version": "2.7.6"
  }
 },
 "nbformat": 4,
 "nbformat_minor": 0
}