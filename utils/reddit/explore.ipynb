{
 "cells": [
  {
   "cell_type": "markdown",
   "metadata": {
    "collapsed": true,
    "pycharm": {
     "name": "#%% md\n"
    }
   },
   "source": [
    "# Exploring Crawled Reddit Data"
   ]
  },
  {
   "cell_type": "code",
   "execution_count": 1,
   "outputs": [],
   "source": [
    "import os\n",
    "import sys\n",
    "from pathlib import Path\n",
    "from os import PathLike\n",
    "\n",
    "import numpy as np\n",
    "import pandas as pd\n",
    "import matplotlib.pyplot as plt\n",
    "\n",
    "\n",
    "import json\n",
    "from typing import Dict, Any\n",
    "\n",
    "from urllib import parse\n",
    "\n",
    "from datetime import date, datetime\n",
    "\n",
    "import multiprocessing\n",
    "import mysql.connector\n",
    "import mysql.connector.pooling"
   ],
   "metadata": {
    "collapsed": false,
    "pycharm": {
     "name": "#%%\n"
    }
   }
  },
  {
   "cell_type": "code",
   "execution_count": 2,
   "outputs": [],
   "source": [
    "import dataclasses\n",
    "from dataclasses import dataclass"
   ],
   "metadata": {
    "collapsed": false,
    "pycharm": {
     "name": "#%%\n"
    }
   }
  },
  {
   "cell_type": "code",
   "execution_count": 3,
   "outputs": [],
   "source": [
    "@dataclass\n",
    "class Submission:\n",
    "    is_self: bool\n",
    "    name: str\n",
    "    selftext: str\n",
    "    subreddit_id: str   # this is actually the full name of the subreddit t5_subredditID\n",
    "    author_fullname: str    # this is the full name of the author t2_authorID\n",
    "    created: int\n",
    "    topic: str  # search query that yielded this submission"
   ],
   "metadata": {
    "collapsed": false,
    "pycharm": {
     "name": "#%%\n"
    }
   }
  },
  {
   "cell_type": "code",
   "execution_count": 4,
   "outputs": [
    {
     "data": {
      "text/plain": "[WindowsPath('D:/gatech/courses/cs-6471-computational-social-science/project/utils/reddit/data/PushShiftAndRedditAPICrawler-output/q=privacy+policy&before=1546923600&after=1546318800&size=100&fields=id-t3_abhq6i.json'),\n WindowsPath('D:/gatech/courses/cs-6471-computational-social-science/project/utils/reddit/data/PushShiftAndRedditAPICrawler-output/q=privacy+policy&before=1546923600&after=1546318800&size=100&fields=id-t3_abi6je.json'),\n WindowsPath('D:/gatech/courses/cs-6471-computational-social-science/project/utils/reddit/data/PushShiftAndRedditAPICrawler-output/q=privacy+policy&before=1546923600&after=1546318800&size=100&fields=id-t3_abiah9.json')]"
     },
     "execution_count": 4,
     "metadata": {},
     "output_type": "execute_result"
    }
   ],
   "source": [
    "data_dir = Path.cwd() / 'data/PushShiftAndRedditAPICrawler-output'\n",
    "submissions_comments_files = list(data_dir.glob('*.json'))\n",
    "submissions_comments_files[:3]"
   ],
   "metadata": {
    "collapsed": false,
    "pycharm": {
     "name": "#%%\n"
    }
   }
  },
  {
   "cell_type": "code",
   "execution_count": 6,
   "outputs": [],
   "source": [
    "submissions = []\n",
    "\n",
    "for f in submissions_comments_files:\n",
    "    data: Dict[str, Any] = json.load(\n",
    "        f.open('r', encoding='utf-8')\n",
    "    )\n",
    "    topic = parse.parse_qs(f.stem)['q'][0]\n",
    "    submission = data['submission']['data']\n",
    "    comments = data['comments']\n",
    "\n",
    "    submissions.append(Submission(\n",
    "        is_self=submission.get('is_self'),\n",
    "        name=submission.get('name'),\n",
    "        selftext=submission.get('selftext'),\n",
    "        subreddit_id=submission.get('subreddit_id'),\n",
    "        author_fullname=submission.get('author_fullname'),\n",
    "        created=int(submission.get('created')),\n",
    "        topic=topic\n",
    "    ))\n"
   ],
   "metadata": {
    "collapsed": false,
    "pycharm": {
     "name": "#%%\n"
    }
   }
  },
  {
   "cell_type": "code",
   "execution_count": 7,
   "outputs": [
    {
     "data": {
      "text/plain": "   is_self       name                                           selftext  \\\n0     True  t3_abhq6i                                          [deleted]   \n1     True  t3_abi6je  This post will bring me a lot of downvotes but...   \n2     True  t3_abiah9                                          [deleted]   \n3    False  t3_abltgc                                                      \n4     True  t3_ablxx1  \\n\\n￼\\n\\nLATEST NEWS\\n\\nFirewall Zero Hour Dev...   \n\n  subreddit_id author_fullname     created           topic  \n0     t5_2qhlc            None  1546344380  privacy policy  \n1     t5_2tk0s        t2_god9h  1546349238  privacy policy  \n2     t5_2qh1q            None  1546350396  privacy policy  \n3     t5_skup3        t2_rln9c  1546375647  privacy policy  \n4     t5_9krdo     t2_1alkf8uj  1546376448  privacy policy  ",
      "text/html": "<div>\n<style scoped>\n    .dataframe tbody tr th:only-of-type {\n        vertical-align: middle;\n    }\n\n    .dataframe tbody tr th {\n        vertical-align: top;\n    }\n\n    .dataframe thead th {\n        text-align: right;\n    }\n</style>\n<table border=\"1\" class=\"dataframe\">\n  <thead>\n    <tr style=\"text-align: right;\">\n      <th></th>\n      <th>is_self</th>\n      <th>name</th>\n      <th>selftext</th>\n      <th>subreddit_id</th>\n      <th>author_fullname</th>\n      <th>created</th>\n      <th>topic</th>\n    </tr>\n  </thead>\n  <tbody>\n    <tr>\n      <th>0</th>\n      <td>True</td>\n      <td>t3_abhq6i</td>\n      <td>[deleted]</td>\n      <td>t5_2qhlc</td>\n      <td>None</td>\n      <td>1546344380</td>\n      <td>privacy policy</td>\n    </tr>\n    <tr>\n      <th>1</th>\n      <td>True</td>\n      <td>t3_abi6je</td>\n      <td>This post will bring me a lot of downvotes but...</td>\n      <td>t5_2tk0s</td>\n      <td>t2_god9h</td>\n      <td>1546349238</td>\n      <td>privacy policy</td>\n    </tr>\n    <tr>\n      <th>2</th>\n      <td>True</td>\n      <td>t3_abiah9</td>\n      <td>[deleted]</td>\n      <td>t5_2qh1q</td>\n      <td>None</td>\n      <td>1546350396</td>\n      <td>privacy policy</td>\n    </tr>\n    <tr>\n      <th>3</th>\n      <td>False</td>\n      <td>t3_abltgc</td>\n      <td></td>\n      <td>t5_skup3</td>\n      <td>t2_rln9c</td>\n      <td>1546375647</td>\n      <td>privacy policy</td>\n    </tr>\n    <tr>\n      <th>4</th>\n      <td>True</td>\n      <td>t3_ablxx1</td>\n      <td>\\n\\n￼\\n\\nLATEST NEWS\\n\\nFirewall Zero Hour Dev...</td>\n      <td>t5_9krdo</td>\n      <td>t2_1alkf8uj</td>\n      <td>1546376448</td>\n      <td>privacy policy</td>\n    </tr>\n  </tbody>\n</table>\n</div>"
     },
     "execution_count": 7,
     "metadata": {},
     "output_type": "execute_result"
    }
   ],
   "source": [
    "submissions = pd.DataFrame(submissions)\n",
    "submissions.head()"
   ],
   "metadata": {
    "collapsed": false,
    "pycharm": {
     "name": "#%%\n"
    }
   }
  },
  {
   "cell_type": "code",
   "execution_count": 10,
   "outputs": [
    {
     "data": {
      "text/plain": "   is_self       name                                           selftext  \\\n1     True  t3_abi6je  This post will bring me a lot of downvotes but...   \n4     True  t3_ablxx1  \\n\\n￼\\n\\nLATEST NEWS\\n\\nFirewall Zero Hour Dev...   \n6     True  t3_abm5w0  Let's narrow the focus of r/HailData to\\n\\n***...   \n8     True  t3_abnffw  So, a bit of backstory: \\n\\nI am a violinist, ...   \n9     True  t3_abog2j  [Cryptology ePrint Archive: Report 2018/415](h...   \n\n  subreddit_id author_fullname     created           topic  \n1     t5_2tk0s        t2_god9h  1546349238  privacy policy  \n4     t5_9krdo     t2_1alkf8uj  1546376448  privacy policy  \n6     t5_3nvqv        t2_oimkt  1546377847  privacy policy  \n8     t5_2xhvq        t2_aee7w  1546386129  privacy policy  \n9     t5_se72n        t2_hj8v9  1546393052  privacy policy  ",
      "text/html": "<div>\n<style scoped>\n    .dataframe tbody tr th:only-of-type {\n        vertical-align: middle;\n    }\n\n    .dataframe tbody tr th {\n        vertical-align: top;\n    }\n\n    .dataframe thead th {\n        text-align: right;\n    }\n</style>\n<table border=\"1\" class=\"dataframe\">\n  <thead>\n    <tr style=\"text-align: right;\">\n      <th></th>\n      <th>is_self</th>\n      <th>name</th>\n      <th>selftext</th>\n      <th>subreddit_id</th>\n      <th>author_fullname</th>\n      <th>created</th>\n      <th>topic</th>\n    </tr>\n  </thead>\n  <tbody>\n    <tr>\n      <th>1</th>\n      <td>True</td>\n      <td>t3_abi6je</td>\n      <td>This post will bring me a lot of downvotes but...</td>\n      <td>t5_2tk0s</td>\n      <td>t2_god9h</td>\n      <td>1546349238</td>\n      <td>privacy policy</td>\n    </tr>\n    <tr>\n      <th>4</th>\n      <td>True</td>\n      <td>t3_ablxx1</td>\n      <td>\\n\\n￼\\n\\nLATEST NEWS\\n\\nFirewall Zero Hour Dev...</td>\n      <td>t5_9krdo</td>\n      <td>t2_1alkf8uj</td>\n      <td>1546376448</td>\n      <td>privacy policy</td>\n    </tr>\n    <tr>\n      <th>6</th>\n      <td>True</td>\n      <td>t3_abm5w0</td>\n      <td>Let's narrow the focus of r/HailData to\\n\\n***...</td>\n      <td>t5_3nvqv</td>\n      <td>t2_oimkt</td>\n      <td>1546377847</td>\n      <td>privacy policy</td>\n    </tr>\n    <tr>\n      <th>8</th>\n      <td>True</td>\n      <td>t3_abnffw</td>\n      <td>So, a bit of backstory: \\n\\nI am a violinist, ...</td>\n      <td>t5_2xhvq</td>\n      <td>t2_aee7w</td>\n      <td>1546386129</td>\n      <td>privacy policy</td>\n    </tr>\n    <tr>\n      <th>9</th>\n      <td>True</td>\n      <td>t3_abog2j</td>\n      <td>[Cryptology ePrint Archive: Report 2018/415](h...</td>\n      <td>t5_se72n</td>\n      <td>t2_hj8v9</td>\n      <td>1546393052</td>\n      <td>privacy policy</td>\n    </tr>\n  </tbody>\n</table>\n</div>"
     },
     "execution_count": 10,
     "metadata": {},
     "output_type": "execute_result"
    }
   ],
   "source": [
    "df_submissions_selftext: pd.DataFrame = submissions[(submissions['selftext'] != \"\") & (submissions['selftext'] != \"[deleted]\") & (submissions['selftext'] != \"[removed]\")]\n",
    "df_submissions_selftext.head()"
   ],
   "metadata": {
    "collapsed": false,
    "pycharm": {
     "name": "#%%\n"
    }
   }
  },
  {
   "cell_type": "code",
   "execution_count": 12,
   "outputs": [
    {
     "data": {
      "text/plain": "\"This post will bring me a lot of downvotes but my need to express myself surpasses those.\\n\\nThe whole thing started with writing to discord support why the nitro (now nitro classic) is so expensive when this option came out. They said because its new... and wanted if i remember correctly 10$\\\\~\\n\\n&#x200B;\\n\\nNow after all this time they still want 60$ a year (12 x 5$\\\\~) that a price for a one time Triple A-Game/software titel payment (like red redemption 2 and so on). As for discord you get the feature FullHD( I shorten it to FH) screen share (all other program that support screenshare offer it for free for non commercial use, skype, team-viewer etc. !). custom emotes and uploading cap to 50 mb? Even telegram doing it for free. (I have no experience with whatsapp, snapchat or others) as for the rest of the nitro classic feature they aren’t even worth to mention for this pricetag. And for this pricetag they don’t even offer to stop collecting your data or stop keeping logs! As for this price I would expect the ability to stream in my channel and have a vpn server line.\\n\\n&#x200B;\\n\\n\\xa0So after a long time I wrote them again just regarding the screen share policy.\\n\\nThis is what I wrote:\\n\\n>“I really hate how you manage your feature policy regarding screen share.I mean\\n\\n1. every other voicechat program that support video (skype, team-viewer\\xa0etc.) have FH screen share for free, why we need to pay for it here in Discord?\\n2. Screen share is a basic feature that only works in a chat converence! Its not like I'am able to stream in any channel even when I pay for it!\\n\\n>As of now when I try to work on a project I need to switch to skype just to be able to share my screen in full resolution! Why would someone need to use 2 programs for similar purpose? As of how Discord is now I am willing to ditch Discord for Skype cause everything I do on Discord I can also do on Skype just better (for example FH screen share!). But I am hoping that Discord is changing to the right direction.  \\n>  \\n>I really loved discord in the beginning as a good lightweight program with good privacy and safe connection but now everything has changed. Its bloated, its collects data and the free users arent able to use the features anyway, so why do you not split the program in free community lightweight version and a paid feature rich version?”  \\n>  \\n>I got a friendly response that its not possible as of now because that is a payed feature of nitro and will pass it to the team. And suggested that I should post try to get upvote on [feedback.discordapp.com](http://feedback.discordapp.com/)\\xa0since “feedback contributes greatly to our decision making of which features and fixes to implement in the future based on what our community wants!”\\n\\nSo i tried that and\\n\\nAfter getting some interesting response from the discord feedback community like\\n\\n>“Interesting, I do however think that streaming 1080p high quality video would be considered as a pro feature even today, since streaming video is one of the most bandwidth consuming things you can do on the web.”  \\n>  \\n>“Discord is still a business after all. Clearly its something you want, so they want to charge money for it. Makes logical sense.”  \\n>  \\n>“That’s just gonna take away from the perks of subscribing to discord nitro.”\\n\\nI just though: discord business app now? am I able to use it commercially, will I have the ability to make money? so people pay 5$ a month to share screen in fullHD between 2 people what other program doing it for free + some minor extras as having gif? you guys really thing the nitro with all its feature is worth more than 0.80$ a month? for 5$ a month I get 500 free minutes, 500 sms and 5 Gib bandwidth/roaming for my phone. this business policy of discord is way worse than what EA did with Battlefront 2 or valve taking huge money for minimal content that is even bugged. and it seems the community (or even fake discord team acc) like to express their support and follow the downhill path. I am disappoint\\xa0in discord and its\\xa0feedback\\xa0community\\xa0and do absolutely not understand that no one beside me there want that to be a free feature. No matter how good discord will become one day, I will always\\xa0remember this money sucking mindset. that said, I now set to never ever pay any penny on discord with their mindset of sucking money for non existing value for what you get and want to tell the internet\\xa0whats going on my mind so they can tell all their other friends with the hope that all who would agree to my though ‘60$ a year for the feature they offer in nitro classic’\\xa0would do the same. As for FullHD screen share I will just use skype or Team-viewer for free from now on. as for all that support discord I am not judging you guys, everyone are free to do what they want with their money. Maybe I will start to gather knowledge how to make a app and finish the app in 3 years which surpass discord in every aspect and will give you all the classic nitro feature for free, you guys can spend your money on my app then\\xa0for the things that are actually worth that.\\n\\n&#x200B;\\n\\n&#x200B;\\n\\nNo bad feelings and happy new year!\\n\\n&#x200B;\\n\\n\\\\------\\n\\nedited out some part that are not appropriate. sadly I can not edit the titel if i could i would to  \\n\\n## This is why i hate Discord and why you could to! :/\""
     },
     "execution_count": 12,
     "metadata": {},
     "output_type": "execute_result"
    }
   ],
   "source": [
    "selftexts = df_submissions_selftext['selftext'].tolist()\n",
    "selftexts[0]"
   ],
   "metadata": {
    "collapsed": false,
    "pycharm": {
     "name": "#%%\n"
    }
   }
  },
  {
   "cell_type": "code",
   "execution_count": null,
   "outputs": [],
   "source": [],
   "metadata": {
    "collapsed": false,
    "pycharm": {
     "name": "#%%\n"
    }
   }
  }
 ],
 "metadata": {
  "kernelspec": {
   "display_name": "Python 3",
   "language": "python",
   "name": "python3"
  },
  "language_info": {
   "codemirror_mode": {
    "name": "ipython",
    "version": 2
   },
   "file_extension": ".py",
   "mimetype": "text/x-python",
   "name": "python",
   "nbconvert_exporter": "python",
   "pygments_lexer": "ipython2",
   "version": "2.7.6"
  }
 },
 "nbformat": 4,
 "nbformat_minor": 0
}