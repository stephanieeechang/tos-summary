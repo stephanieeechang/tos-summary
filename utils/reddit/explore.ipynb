{
 "cells": [
  {
   "cell_type": "markdown",
   "metadata": {
    "collapsed": true,
    "pycharm": {
     "name": "#%% md\n"
    }
   },
   "source": [
    "# Exploring Crawled Reddit Data"
   ]
  },
  {
   "cell_type": "code",
   "execution_count": 1,
   "outputs": [],
   "source": [
    "import json\n",
    "import locale\n",
    "\n",
    "import os\n",
    "import sys\n",
    "from pathlib import Path\n",
    "from os import PathLike\n",
    "\n",
    "import numpy as np\n",
    "import pandas as pd\n",
    "import matplotlib.pyplot as plt\n",
    "\n",
    "# time\n",
    "import time\n",
    "from datetime import datetime\n",
    "\n",
    "# typing\n",
    "from typing import List, Dict, Set, Union, Any\n",
    "\n",
    "# gensim\n",
    "import gensim\n",
    "import gensim.corpora\n",
    "\n",
    "# jupyter\n",
    "from tqdm import tqdm\n",
    "tqdm.pandas()\n",
    "\n",
    "%load_ext autoreload\n",
    "%autoreload 2\n",
    "\n",
    "# we will be using utf-8 for io encoding decoding\n",
    "os.environ['PYTHONUTF8'] = '1'"
   ],
   "metadata": {
    "collapsed": false,
    "pycharm": {
     "name": "#%%\n"
    }
   }
  },
  {
   "cell_type": "code",
   "execution_count": 2,
   "outputs": [],
   "source": [
    "# some additional configs, pertains to how certain cells are run/behave\n",
    "write_to_db = False\n",
    "db_config = {\n",
    "    'host': '10.20.4.246',\n",
    "    'port': 3306,\n",
    "    'user': 'sandman',\n",
    "    'database': 'cs6471'\n",
    "}"
   ],
   "metadata": {
    "collapsed": false,
    "pycharm": {
     "name": "#%%\n"
    }
   }
  },
  {
   "cell_type": "code",
   "execution_count": 3,
   "outputs": [
    {
     "data": {
      "text/plain": "WindowsPath('D:/gatech/courses/cs-6471-computational-social-science/project/utils/reddit')"
     },
     "execution_count": 3,
     "metadata": {},
     "output_type": "execute_result"
    }
   ],
   "source": [
    "Path.cwd()"
   ],
   "metadata": {
    "collapsed": false,
    "pycharm": {
     "name": "#%%\n"
    }
   }
  },
  {
   "cell_type": "code",
   "execution_count": 4,
   "outputs": [],
   "source": [
    "data_dir = Path.cwd() / 'data/PushShiftAndRedditAPICrawler-output'\n",
    "data_files = list(data_dir.glob('*.json'))"
   ],
   "metadata": {
    "collapsed": false,
    "pycharm": {
     "name": "#%%\n"
    }
   }
  },
  {
   "cell_type": "code",
   "execution_count": 5,
   "outputs": [
    {
     "name": "stderr",
     "output_type": "stream",
     "text": [
      "100%|██████████| 22767/22767 [01:32<00:00, 247.29it/s] \n"
     ]
    }
   ],
   "source": [
    "# load submissions and comments from json files\n",
    "all_submissions = []\n",
    "all_comments = []\n",
    "\n",
    "for f in tqdm(data_files):\n",
    "    f: Path\n",
    "    data = json.load(f.open(mode='r', encoding='utf-8'))\n",
    "    submission = data['submission']['data']\n",
    "\n",
    "    # data['comments'] = {'type': 't1', 'data': 'actual comment data object'}\n",
    "    comments = map(lambda c: c['data'], data['comments'])\n",
    "\n",
    "    all_submissions.append(submission)\n",
    "    all_comments.extend(comments)"
   ],
   "metadata": {
    "collapsed": false,
    "pycharm": {
     "name": "#%%\n"
    }
   }
  },
  {
   "cell_type": "code",
   "execution_count": 6,
   "outputs": [
    {
     "data": {
      "text/plain": "        author author_fullname   created_utc       name  num_comments  \\\n0    [deleted]             NaN  1.546344e+09  t3_abhq6i             2   \n1      amboris        t2_god9h  1.546349e+09  t3_abi6je             9   \n2    [deleted]             NaN  1.546350e+09  t3_abiah9            43   \n3  EndMeetsEnd        t2_rln9c  1.546376e+09  t3_abltgc             0   \n4    Armane407     t2_1alkf8uj  1.546376e+09  t3_ablxx1             1   \n\n   num_crossposts  num_duplicates  score  \\\n0               0               0      3   \n1               0               0      5   \n2               0               0    218   \n3               0               1      1   \n4               0               0      0   \n\n                                            selftext subreddit_id  \\\n0                                          [deleted]     t5_2qhlc   \n1  This post will bring me a lot of downvotes but...     t5_2tk0s   \n2                                          [deleted]     t5_2qh1q   \n3                                                        t5_skup3   \n4  \\n\\n￼\\n\\nLATEST NEWS\\n\\nFirewall Zero Hour Dev...     t5_9krdo   \n\n   subreddit_name_prefixed  subreddit_subscribers subreddit_type  \\\n0                r/privacy                1241659         public   \n1       r/unpopularopinion                2347620         public   \n2                  r/india                 748669         public   \n3  r/TheLibertarianProject                      2         public   \n4       r/FireWallZeroHour                   5452         public   \n\n                                               title  \n0                       Anyone tried Jami Messenger?  \n1   This is why i hate Discord and you should to! :/  \n2                     Ola's Privacy Policy is creepy  \n3  Data Privacy Scandals and Public Policy Pickin...  \n4                                       Nice to know  ",
      "text/html": "<div>\n<style scoped>\n    .dataframe tbody tr th:only-of-type {\n        vertical-align: middle;\n    }\n\n    .dataframe tbody tr th {\n        vertical-align: top;\n    }\n\n    .dataframe thead th {\n        text-align: right;\n    }\n</style>\n<table border=\"1\" class=\"dataframe\">\n  <thead>\n    <tr style=\"text-align: right;\">\n      <th></th>\n      <th>author</th>\n      <th>author_fullname</th>\n      <th>created_utc</th>\n      <th>name</th>\n      <th>num_comments</th>\n      <th>num_crossposts</th>\n      <th>num_duplicates</th>\n      <th>score</th>\n      <th>selftext</th>\n      <th>subreddit_id</th>\n      <th>subreddit_name_prefixed</th>\n      <th>subreddit_subscribers</th>\n      <th>subreddit_type</th>\n      <th>title</th>\n    </tr>\n  </thead>\n  <tbody>\n    <tr>\n      <th>0</th>\n      <td>[deleted]</td>\n      <td>NaN</td>\n      <td>1.546344e+09</td>\n      <td>t3_abhq6i</td>\n      <td>2</td>\n      <td>0</td>\n      <td>0</td>\n      <td>3</td>\n      <td>[deleted]</td>\n      <td>t5_2qhlc</td>\n      <td>r/privacy</td>\n      <td>1241659</td>\n      <td>public</td>\n      <td>Anyone tried Jami Messenger?</td>\n    </tr>\n    <tr>\n      <th>1</th>\n      <td>amboris</td>\n      <td>t2_god9h</td>\n      <td>1.546349e+09</td>\n      <td>t3_abi6je</td>\n      <td>9</td>\n      <td>0</td>\n      <td>0</td>\n      <td>5</td>\n      <td>This post will bring me a lot of downvotes but...</td>\n      <td>t5_2tk0s</td>\n      <td>r/unpopularopinion</td>\n      <td>2347620</td>\n      <td>public</td>\n      <td>This is why i hate Discord and you should to! :/</td>\n    </tr>\n    <tr>\n      <th>2</th>\n      <td>[deleted]</td>\n      <td>NaN</td>\n      <td>1.546350e+09</td>\n      <td>t3_abiah9</td>\n      <td>43</td>\n      <td>0</td>\n      <td>0</td>\n      <td>218</td>\n      <td>[deleted]</td>\n      <td>t5_2qh1q</td>\n      <td>r/india</td>\n      <td>748669</td>\n      <td>public</td>\n      <td>Ola's Privacy Policy is creepy</td>\n    </tr>\n    <tr>\n      <th>3</th>\n      <td>EndMeetsEnd</td>\n      <td>t2_rln9c</td>\n      <td>1.546376e+09</td>\n      <td>t3_abltgc</td>\n      <td>0</td>\n      <td>0</td>\n      <td>1</td>\n      <td>1</td>\n      <td></td>\n      <td>t5_skup3</td>\n      <td>r/TheLibertarianProject</td>\n      <td>2</td>\n      <td>public</td>\n      <td>Data Privacy Scandals and Public Policy Pickin...</td>\n    </tr>\n    <tr>\n      <th>4</th>\n      <td>Armane407</td>\n      <td>t2_1alkf8uj</td>\n      <td>1.546376e+09</td>\n      <td>t3_ablxx1</td>\n      <td>1</td>\n      <td>0</td>\n      <td>0</td>\n      <td>0</td>\n      <td>\\n\\n￼\\n\\nLATEST NEWS\\n\\nFirewall Zero Hour Dev...</td>\n      <td>t5_9krdo</td>\n      <td>r/FireWallZeroHour</td>\n      <td>5452</td>\n      <td>public</td>\n      <td>Nice to know</td>\n    </tr>\n  </tbody>\n</table>\n</div>"
     },
     "execution_count": 6,
     "metadata": {},
     "output_type": "execute_result"
    }
   ],
   "source": [
    "used_columns_df_submissions = [\n",
    "    'author',\n",
    "    'author_fullname',\n",
    "    'created_utc',  # float64\n",
    "    'name',  # text used as fullname\n",
    "    'num_comments',  # int64\n",
    "    'num_crossposts',  # int64\n",
    "    'num_duplicates',  # int64\n",
    "    'score',  # int64 num upvotes\n",
    "    'selftext',  # longtext\n",
    "    'subreddit_id',  # text fullname of subreddit\n",
    "    'subreddit_name_prefixed',  # text prefixed name of the subreddit\n",
    "    'subreddit_subscribers',  # 'int64'\n",
    "    'subreddit_type',  # text\n",
    "    'title',  # text\n",
    "]\n",
    "df_submissions = pd.DataFrame(all_submissions)[used_columns_df_submissions]\n",
    "df_submissions.head()"
   ],
   "metadata": {
    "collapsed": false,
    "pycharm": {
     "name": "#%%\n"
    }
   }
  },
  {
   "cell_type": "code",
   "execution_count": 7,
   "outputs": [
    {
     "data": {
      "text/plain": "             author author_fullname  \\\n0         [deleted]             NaN   \n1           tedkotz        t2_hnvc9   \n2     AutoModerator        t2_6l4z3   \n3  Flamingpanda2000     t2_1bd437bt   \n4           Vic9420        t2_mlbi9   \n\n                                                body  controversiality  \\\n0                                          [deleted]               0.0   \n1  They are not a service provider. That is proba...               0.0   \n2  Hi everyone! Please make sure to **upvote** we...               0.0   \n3  Nobody’s going to downvote your opinion becaus...               0.0   \n4  I use Discord,but only as a way to chat with a...               0.0   \n\n    created_utc  depth        name  parent_id  score subreddit_id  \\\n0  1.546554e+09      0  t1_ed6jj48  t3_abhq6i    5.0     t5_2qhlc   \n1  1.554926e+09      0  t1_ekknevu  t3_abhq6i    1.0     t5_2qhlc   \n2  1.546349e+09      0  t1_ed0ev41  t3_abi6je    1.0     t5_2tk0s   \n3  1.546350e+09      0  t1_ed0f60a  t3_abi6je    8.0     t5_2tk0s   \n4  1.546350e+09      0  t1_ed0f89z  t3_abi6je    2.0     t5_2tk0s   \n\n  subreddit_name_prefixed  \n0               r/privacy  \n1               r/privacy  \n2      r/unpopularopinion  \n3      r/unpopularopinion  \n4      r/unpopularopinion  ",
      "text/html": "<div>\n<style scoped>\n    .dataframe tbody tr th:only-of-type {\n        vertical-align: middle;\n    }\n\n    .dataframe tbody tr th {\n        vertical-align: top;\n    }\n\n    .dataframe thead th {\n        text-align: right;\n    }\n</style>\n<table border=\"1\" class=\"dataframe\">\n  <thead>\n    <tr style=\"text-align: right;\">\n      <th></th>\n      <th>author</th>\n      <th>author_fullname</th>\n      <th>body</th>\n      <th>controversiality</th>\n      <th>created_utc</th>\n      <th>depth</th>\n      <th>name</th>\n      <th>parent_id</th>\n      <th>score</th>\n      <th>subreddit_id</th>\n      <th>subreddit_name_prefixed</th>\n    </tr>\n  </thead>\n  <tbody>\n    <tr>\n      <th>0</th>\n      <td>[deleted]</td>\n      <td>NaN</td>\n      <td>[deleted]</td>\n      <td>0.0</td>\n      <td>1.546554e+09</td>\n      <td>0</td>\n      <td>t1_ed6jj48</td>\n      <td>t3_abhq6i</td>\n      <td>5.0</td>\n      <td>t5_2qhlc</td>\n      <td>r/privacy</td>\n    </tr>\n    <tr>\n      <th>1</th>\n      <td>tedkotz</td>\n      <td>t2_hnvc9</td>\n      <td>They are not a service provider. That is proba...</td>\n      <td>0.0</td>\n      <td>1.554926e+09</td>\n      <td>0</td>\n      <td>t1_ekknevu</td>\n      <td>t3_abhq6i</td>\n      <td>1.0</td>\n      <td>t5_2qhlc</td>\n      <td>r/privacy</td>\n    </tr>\n    <tr>\n      <th>2</th>\n      <td>AutoModerator</td>\n      <td>t2_6l4z3</td>\n      <td>Hi everyone! Please make sure to **upvote** we...</td>\n      <td>0.0</td>\n      <td>1.546349e+09</td>\n      <td>0</td>\n      <td>t1_ed0ev41</td>\n      <td>t3_abi6je</td>\n      <td>1.0</td>\n      <td>t5_2tk0s</td>\n      <td>r/unpopularopinion</td>\n    </tr>\n    <tr>\n      <th>3</th>\n      <td>Flamingpanda2000</td>\n      <td>t2_1bd437bt</td>\n      <td>Nobody’s going to downvote your opinion becaus...</td>\n      <td>0.0</td>\n      <td>1.546350e+09</td>\n      <td>0</td>\n      <td>t1_ed0f60a</td>\n      <td>t3_abi6je</td>\n      <td>8.0</td>\n      <td>t5_2tk0s</td>\n      <td>r/unpopularopinion</td>\n    </tr>\n    <tr>\n      <th>4</th>\n      <td>Vic9420</td>\n      <td>t2_mlbi9</td>\n      <td>I use Discord,but only as a way to chat with a...</td>\n      <td>0.0</td>\n      <td>1.546350e+09</td>\n      <td>0</td>\n      <td>t1_ed0f89z</td>\n      <td>t3_abi6je</td>\n      <td>2.0</td>\n      <td>t5_2tk0s</td>\n      <td>r/unpopularopinion</td>\n    </tr>\n  </tbody>\n</table>\n</div>"
     },
     "execution_count": 7,
     "metadata": {},
     "output_type": "execute_result"
    }
   ],
   "source": [
    "used_columns_df_comments = [\n",
    "    'author',\n",
    "    'author_fullname',\n",
    "    'body',  # longtext content of the comment\n",
    "    'controversiality',  # float64\n",
    "    'created_utc',  # float64\n",
    "    'depth',  # int\n",
    "    'name',  # text fullname of the comment\n",
    "    'parent_id',  # text fullname of the parent\n",
    "    'score',  # int64\n",
    "    'subreddit_id',  # text fullname of the subreddit\n",
    "    'subreddit_name_prefixed',\n",
    "]\n",
    "df_comments = pd.DataFrame(all_comments)[used_columns_df_comments]\n",
    "df_comments.head()"
   ],
   "metadata": {
    "collapsed": false,
    "pycharm": {
     "name": "#%%\n"
    }
   }
  },
  {
   "cell_type": "code",
   "execution_count": 8,
   "outputs": [],
   "source": [
    "if write_to_db:\n",
    "    # get a database connection\n",
    "    import sqlalchemy\n",
    "    import sqlalchemy.dialects.mysql\n",
    "    from sqlalchemy.dialects.mysql import TEXT, LONGTEXT, BIGINT, DOUBLE\n",
    "\n",
    "    print(f'Using SQL DB, config: {db_config}')\n",
    "    engine = sqlalchemy.create_engine(\n",
    "        f'mysql+mysqlconnector://{db_config[\"user\"]}@{db_config[\"host\"]}:{db_config[\"port\"]}/{db_config[\"database\"]}',\n",
    "        echo=False)\n",
    "    print(vars(engine))\n",
    "    print('Writing submissions dataframe to DB')\n",
    "\n",
    "    # self text is very long, we need to explicitly set this to longtext\n",
    "    df_submissions.to_sql(\n",
    "        name='submissions',\n",
    "        con=engine,\n",
    "        if_exists='replace',\n",
    "        method='multi',\n",
    "        chunksize=512,\n",
    "        dtype={\n",
    "            'author': TEXT,\n",
    "            'author_fullname': TEXT,\n",
    "            'created_utc': BIGINT,  # float64\n",
    "            'name': TEXT,  # text used as fullname\n",
    "            'num_comments': BIGINT,  # int64\n",
    "            'num_crossposts': BIGINT,  # int64\n",
    "            'num_duplicates': BIGINT,  # int64\n",
    "            'score': BIGINT,  # int64 num upvotes\n",
    "            'selftext': LONGTEXT,  # longtext\n",
    "            'subreddit_id': TEXT,  # text fullname of subreddit\n",
    "            'subreddit_name_prefixed': TEXT,  # text prefixed name of the subreddit\n",
    "            'subreddit_subscribers': BIGINT,  # 'int64'\n",
    "            'subreddit_type': TEXT,  # text\n",
    "            'title': TEXT,  # text\n",
    "        }\n",
    "    )\n",
    "    print(f'Writing comments to DB')\n",
    "    # body is very long, we need to explicitly set this to longtext\n",
    "    df_comments.to_sql(\n",
    "        name='comments',\n",
    "        con=engine,\n",
    "        if_exists='replace',\n",
    "        method='multi',\n",
    "        chunksize=512,\n",
    "        dtype={\n",
    "            'author': TEXT,\n",
    "            'author_fullname': TEXT,\n",
    "            'body': LONGTEXT,  # longtext content of the comment\n",
    "            'controversiality': DOUBLE,  # float64\n",
    "            'created_utc': BIGINT,  # float64\n",
    "            'depth': BIGINT,  # int\n",
    "            'name': TEXT,  # text fullname of the comment\n",
    "            'parent_id': TEXT,  # text fullname of the parent\n",
    "            'score': BIGINT,  # int64\n",
    "            'subreddit_id': TEXT,  # text fullname of the subreddit\n",
    "            'subreddit_name_prefixed': TEXT,\n",
    "        }\n",
    "    )"
   ],
   "metadata": {
    "collapsed": false,
    "pycharm": {
     "name": "#%%\n"
    }
   }
  },
  {
   "cell_type": "markdown",
   "source": [
    "## Submissions with content (selftext is not empty, deleted or removed"
   ],
   "metadata": {
    "collapsed": false
   }
  },
  {
   "cell_type": "code",
   "execution_count": 9,
   "outputs": [
    {
     "data": {
      "text/plain": "      author author_fullname   created_utc       name  num_comments  \\\n1    amboris        t2_god9h  1.546349e+09  t3_abi6je             9   \n4  Armane407     t2_1alkf8uj  1.546376e+09  t3_ablxx1             1   \n6    grantph        t2_oimkt  1.546378e+09  t3_abm5w0             0   \n8    avacash        t2_aee7w  1.546386e+09  t3_abnffw            40   \n9    dj-gutz        t2_hj8v9  1.546393e+09  t3_abog2j             0   \n\n   num_crossposts  num_duplicates  score  \\\n1               0               0      5   \n4               0               0      0   \n6               0               0     24   \n8               0               0      1   \n9               0               0      0   \n\n                                            selftext subreddit_id  \\\n1  This post will bring me a lot of downvotes but...     t5_2tk0s   \n4  \\n\\n￼\\n\\nLATEST NEWS\\n\\nFirewall Zero Hour Dev...     t5_9krdo   \n6  Let's narrow the focus of r/HailData to\\n\\n***...     t5_3nvqv   \n8  So, a bit of backstory: \\n\\nI am a violinist, ...     t5_2xhvq   \n9  [Cryptology ePrint Archive: Report 2018/415](h...     t5_se72n   \n\n  subreddit_name_prefixed  subreddit_subscribers subreddit_type  \\\n1      r/unpopularopinion                2347620         public   \n4      r/FireWallZeroHour                   5452         public   \n6              r/HailData                   2423         public   \n8         r/AmItheAsshole                3659503         public   \n9                r/myrXiv                     16         public   \n\n                                               title  \n1   This is why i hate Discord and you should to! :/  \n4                                       Nice to know  \n6                      The Future of HailData (2019)  \n8  AITA for getting mad when people compliment my...  \n9  Flux: Revisiting Near Blocks for Proof-of-Work...  ",
      "text/html": "<div>\n<style scoped>\n    .dataframe tbody tr th:only-of-type {\n        vertical-align: middle;\n    }\n\n    .dataframe tbody tr th {\n        vertical-align: top;\n    }\n\n    .dataframe thead th {\n        text-align: right;\n    }\n</style>\n<table border=\"1\" class=\"dataframe\">\n  <thead>\n    <tr style=\"text-align: right;\">\n      <th></th>\n      <th>author</th>\n      <th>author_fullname</th>\n      <th>created_utc</th>\n      <th>name</th>\n      <th>num_comments</th>\n      <th>num_crossposts</th>\n      <th>num_duplicates</th>\n      <th>score</th>\n      <th>selftext</th>\n      <th>subreddit_id</th>\n      <th>subreddit_name_prefixed</th>\n      <th>subreddit_subscribers</th>\n      <th>subreddit_type</th>\n      <th>title</th>\n    </tr>\n  </thead>\n  <tbody>\n    <tr>\n      <th>1</th>\n      <td>amboris</td>\n      <td>t2_god9h</td>\n      <td>1.546349e+09</td>\n      <td>t3_abi6je</td>\n      <td>9</td>\n      <td>0</td>\n      <td>0</td>\n      <td>5</td>\n      <td>This post will bring me a lot of downvotes but...</td>\n      <td>t5_2tk0s</td>\n      <td>r/unpopularopinion</td>\n      <td>2347620</td>\n      <td>public</td>\n      <td>This is why i hate Discord and you should to! :/</td>\n    </tr>\n    <tr>\n      <th>4</th>\n      <td>Armane407</td>\n      <td>t2_1alkf8uj</td>\n      <td>1.546376e+09</td>\n      <td>t3_ablxx1</td>\n      <td>1</td>\n      <td>0</td>\n      <td>0</td>\n      <td>0</td>\n      <td>\\n\\n￼\\n\\nLATEST NEWS\\n\\nFirewall Zero Hour Dev...</td>\n      <td>t5_9krdo</td>\n      <td>r/FireWallZeroHour</td>\n      <td>5452</td>\n      <td>public</td>\n      <td>Nice to know</td>\n    </tr>\n    <tr>\n      <th>6</th>\n      <td>grantph</td>\n      <td>t2_oimkt</td>\n      <td>1.546378e+09</td>\n      <td>t3_abm5w0</td>\n      <td>0</td>\n      <td>0</td>\n      <td>0</td>\n      <td>24</td>\n      <td>Let's narrow the focus of r/HailData to\\n\\n***...</td>\n      <td>t5_3nvqv</td>\n      <td>r/HailData</td>\n      <td>2423</td>\n      <td>public</td>\n      <td>The Future of HailData (2019)</td>\n    </tr>\n    <tr>\n      <th>8</th>\n      <td>avacash</td>\n      <td>t2_aee7w</td>\n      <td>1.546386e+09</td>\n      <td>t3_abnffw</td>\n      <td>40</td>\n      <td>0</td>\n      <td>0</td>\n      <td>1</td>\n      <td>So, a bit of backstory: \\n\\nI am a violinist, ...</td>\n      <td>t5_2xhvq</td>\n      <td>r/AmItheAsshole</td>\n      <td>3659503</td>\n      <td>public</td>\n      <td>AITA for getting mad when people compliment my...</td>\n    </tr>\n    <tr>\n      <th>9</th>\n      <td>dj-gutz</td>\n      <td>t2_hj8v9</td>\n      <td>1.546393e+09</td>\n      <td>t3_abog2j</td>\n      <td>0</td>\n      <td>0</td>\n      <td>0</td>\n      <td>0</td>\n      <td>[Cryptology ePrint Archive: Report 2018/415](h...</td>\n      <td>t5_se72n</td>\n      <td>r/myrXiv</td>\n      <td>16</td>\n      <td>public</td>\n      <td>Flux: Revisiting Near Blocks for Proof-of-Work...</td>\n    </tr>\n  </tbody>\n</table>\n</div>"
     },
     "execution_count": 9,
     "metadata": {},
     "output_type": "execute_result"
    }
   ],
   "source": [
    "#\n",
    "df_contented_submissions: pd.DataFrame\n",
    "df_contented_submissions = df_submissions[\n",
    "    (df_submissions['selftext'] != '[deleted]') & (df_submissions['selftext'] != '[removed]') & (df_submissions['selftext'] != '')\n",
    "]\n",
    "df_contented_submissions.head()"
   ],
   "metadata": {
    "collapsed": false,
    "pycharm": {
     "name": "#%%\n"
    }
   }
  },
  {
   "cell_type": "markdown",
   "source": [
    "### Dumping selftext to file"
   ],
   "metadata": {
    "collapsed": false,
    "pycharm": {
     "name": "#%% md\n"
    }
   }
  },
  {
   "cell_type": "code",
   "execution_count": 10,
   "outputs": [
    {
     "name": "stderr",
     "output_type": "stream",
     "text": [
      "100%|██████████| 13698/13698 [00:03<00:00, 3483.35it/s]\n"
     ]
    }
   ],
   "source": [
    "dump_to_file = True # toggle this\n",
    "if dump_to_file:\n",
    "\n",
    "    save_dir = Path.cwd() / 'data/all_selftexts'\n",
    "\n",
    "    def dumps(row: pd.Series):\n",
    "        save_filename = f'contented-authorfullname_{row.get(\"author_fullname\", \"\")}-createdutc_{row.get(\"created_utc\", \"\")}-name_{row.get(\"name\", \"\")}-subredditid_{row.get(\"subreddit_id\", \"\")}.txt'\n",
    "        (save_dir / save_filename).write_text(row.get('selftext', ''), encoding='utf-8')\n",
    "\n",
    "    if not save_dir.exists():\n",
    "        save_dir.mkdir()\n",
    "    df_contented_submissions.progress_apply(dumps, axis=1)"
   ],
   "metadata": {
    "collapsed": false,
    "pycharm": {
     "name": "#%%\n"
    }
   }
  },
  {
   "cell_type": "markdown",
   "source": [
    "## Submissions within a time range"
   ],
   "metadata": {
    "collapsed": false
   }
  },
  {
   "cell_type": "code",
   "execution_count": 11,
   "outputs": [
    {
     "data": {
      "text/plain": "                  author author_fullname   created_utc       name  \\\n3935  SensibleHumanBeing     t2_3m9wl1fx  1.577862e+09  t3_eiff52   \n3937          PPCexpo-us     t2_4aa5k9kq  1.577871e+09  t3_eigmr6   \n3938          PPCexpo-us     t2_4aa5k9kq  1.577872e+09  t3_eigqx2   \n3939            Highlow9        t2_ehtjf  1.577893e+09  t3_eijj0h   \n3942         DangerDylan        t2_ovgqf  1.577909e+09  t3_eimwv0   \n\n      num_comments  num_crossposts  num_duplicates  score  \\\n3935             1               0               0      2   \n3937             0               0               0     13   \n3938             5               0               0     13   \n3939             8               0               0      9   \n3942             0               0               0      2   \n\n                                               selftext subreddit_id  \\\n3935  What is happening here? I want to read it but ...    t5_2b23q1   \n3937  In 2013, millennials accounted for $1.3 trilli...     t5_2qvdk   \n3938  In 2013, millennials accounted for $1.3 trilli...     t5_2s3d6   \n3939  So I like saving money without effort but I al...     t5_2qhlc   \n3942  ##[World News](/r/worldnews/)\\n\\n**Taiwan Lead...     t5_mirq9   \n\n     subreddit_name_prefixed  subreddit_subscribers subreddit_type  \\\n3935              r/Fruitlab                    177         public   \n3937                   r/PPC                 115823         public   \n3938      r/DigitalMarketing                  76240         public   \n3939               r/privacy                1241660         public   \n3942       r/DangerDylanTLDR                    149     restricted   \n\n                                                  title  \n3935  Why does the privacy policy seemingly just not...  \n3937  5 Core Aspects of an Effective Marketing Strat...  \n3938  5 Core Aspects of an Effective Marketing Strat...  \n3939               How much data is collected by Honey?  \n3942                           [Wednesday, 01. January]  ",
      "text/html": "<div>\n<style scoped>\n    .dataframe tbody tr th:only-of-type {\n        vertical-align: middle;\n    }\n\n    .dataframe tbody tr th {\n        vertical-align: top;\n    }\n\n    .dataframe thead th {\n        text-align: right;\n    }\n</style>\n<table border=\"1\" class=\"dataframe\">\n  <thead>\n    <tr style=\"text-align: right;\">\n      <th></th>\n      <th>author</th>\n      <th>author_fullname</th>\n      <th>created_utc</th>\n      <th>name</th>\n      <th>num_comments</th>\n      <th>num_crossposts</th>\n      <th>num_duplicates</th>\n      <th>score</th>\n      <th>selftext</th>\n      <th>subreddit_id</th>\n      <th>subreddit_name_prefixed</th>\n      <th>subreddit_subscribers</th>\n      <th>subreddit_type</th>\n      <th>title</th>\n    </tr>\n  </thead>\n  <tbody>\n    <tr>\n      <th>3935</th>\n      <td>SensibleHumanBeing</td>\n      <td>t2_3m9wl1fx</td>\n      <td>1.577862e+09</td>\n      <td>t3_eiff52</td>\n      <td>1</td>\n      <td>0</td>\n      <td>0</td>\n      <td>2</td>\n      <td>What is happening here? I want to read it but ...</td>\n      <td>t5_2b23q1</td>\n      <td>r/Fruitlab</td>\n      <td>177</td>\n      <td>public</td>\n      <td>Why does the privacy policy seemingly just not...</td>\n    </tr>\n    <tr>\n      <th>3937</th>\n      <td>PPCexpo-us</td>\n      <td>t2_4aa5k9kq</td>\n      <td>1.577871e+09</td>\n      <td>t3_eigmr6</td>\n      <td>0</td>\n      <td>0</td>\n      <td>0</td>\n      <td>13</td>\n      <td>In 2013, millennials accounted for $1.3 trilli...</td>\n      <td>t5_2qvdk</td>\n      <td>r/PPC</td>\n      <td>115823</td>\n      <td>public</td>\n      <td>5 Core Aspects of an Effective Marketing Strat...</td>\n    </tr>\n    <tr>\n      <th>3938</th>\n      <td>PPCexpo-us</td>\n      <td>t2_4aa5k9kq</td>\n      <td>1.577872e+09</td>\n      <td>t3_eigqx2</td>\n      <td>5</td>\n      <td>0</td>\n      <td>0</td>\n      <td>13</td>\n      <td>In 2013, millennials accounted for $1.3 trilli...</td>\n      <td>t5_2s3d6</td>\n      <td>r/DigitalMarketing</td>\n      <td>76240</td>\n      <td>public</td>\n      <td>5 Core Aspects of an Effective Marketing Strat...</td>\n    </tr>\n    <tr>\n      <th>3939</th>\n      <td>Highlow9</td>\n      <td>t2_ehtjf</td>\n      <td>1.577893e+09</td>\n      <td>t3_eijj0h</td>\n      <td>8</td>\n      <td>0</td>\n      <td>0</td>\n      <td>9</td>\n      <td>So I like saving money without effort but I al...</td>\n      <td>t5_2qhlc</td>\n      <td>r/privacy</td>\n      <td>1241660</td>\n      <td>public</td>\n      <td>How much data is collected by Honey?</td>\n    </tr>\n    <tr>\n      <th>3942</th>\n      <td>DangerDylan</td>\n      <td>t2_ovgqf</td>\n      <td>1.577909e+09</td>\n      <td>t3_eimwv0</td>\n      <td>0</td>\n      <td>0</td>\n      <td>0</td>\n      <td>2</td>\n      <td>##[World News](/r/worldnews/)\\n\\n**Taiwan Lead...</td>\n      <td>t5_mirq9</td>\n      <td>r/DangerDylanTLDR</td>\n      <td>149</td>\n      <td>restricted</td>\n      <td>[Wednesday, 01. January]</td>\n    </tr>\n  </tbody>\n</table>\n</div>"
     },
     "execution_count": 11,
     "metadata": {},
     "output_type": "execute_result"
    }
   ],
   "source": [
    "time_range = (\n",
    "    datetime(year=2020, month=1, day=1, hour=0, minute=0, second=0, microsecond=0).timestamp(),\n",
    "    datetime(year=2021, month=1, day=1, hour=0, minute=0, second=0, microsecond=0).timestamp()\n",
    ")\n",
    "target_df = df_contented_submissions\n",
    "time_mask = (target_df['created_utc'] >= time_range[0]) & (target_df['created_utc'] < time_range[1])\n",
    "target_df = target_df[time_mask]\n",
    "target_df.head()"
   ],
   "metadata": {
    "collapsed": false,
    "pycharm": {
     "name": "#%%\n"
    }
   }
  },
  {
   "cell_type": "markdown",
   "source": [
    "### Playing with this dataframe"
   ],
   "metadata": {
    "collapsed": false,
    "pycharm": {
     "name": "#%% md\n"
    }
   }
  },
  {
   "cell_type": "code",
   "execution_count": 12,
   "outputs": [
    {
     "data": {
      "text/plain": "['What is happening here? I want to read it but the link is dead,',\n 'In 2013, millennials accounted for $1.3 trillion in consumer spending. Six years on, this bracket of 18-34 year-olds are the largest demographic that marketers must consider. Therefore, if you don’t have an effective marketing strategy, your business could miss out on a lot of potential customers.\\n\\nAside from their numbers, Millennials have a very different mindset to previous generations, and so their choices in regards to shopping and spending aren’t as predictable. What worked for Baby Boomers and Gen X consumers doesn’t usually fare so well with Millennials.\\n\\nWith that in mind, modern marketers must devise an effective marketing strategy that can strike a chord with this tech-savvy demographic. By realizing how they embrace social media, you can leverage tap into the potential this huge audience offers.\\n\\nIn this article, we’ll show you the key areas you should focus on in the modern age.\\n\\n## 1. Think Differently and Try New Ideas\\n\\nMost – if not all – millennials are digital natives. They grew up with the internet. They remember the dawn of social media, and they have been using smartphones and online retail sites from their teenage years or earlier.\\n\\nOver the years, they have grown accustomed to this reality, and they expect brands to offer a sleek, smooth, and enjoyable online customer journey. They love digital giants like Apple, YouTube, Google, and Netflix for their sophisticated tech and virtually unrivaled experience.\\n\\nTraditional sales pitches like a simple “Buy Now!” call-to-action no longer works with this market. They’ve heard it all before, and they pay no attention to it.\\n\\nAccording to the Center for Generational Kinetics, Millennials prefer to be contacted through these methods (in order of importance):\\n\\n* Text and IM apps, like WhatsApp and Facebook Messenger;\\n* Email, with the subject line being a highly important aspect;\\n* Social media;\\n* Phone calls; and\\n* In-person\\n\\nInstead of hard sales, you need an effective marketing strategy that seeks to experiment with fresh, unique new ideas. You must convince Millennials *why* they need your product or service. You must make them believe that it is the solution to their problems. By highlighting the benefits, you can catch their attention.\\n\\nResearch shows that 54% of Millennials want to start their own companies or have already started one, and 45% would choose a job with a more flexible schedule over a job with a higher pay rate.\\n\\nIt’s clear that this group of consumers think differently than previous generations, and so, it’s vital that marketers approach their advertising campaigns differently.\\n\\n## 2. Video Marketing is Vital Now\\n\\nTake a moment to think about the flood of information that appears on your social media feed each day. It’s inundated with hundreds and thousands of posts, all competing for the attention of Millennials – a generation of people reputed to have a short attention span. If your post is going to stand out, it needs to be something special.\\n\\nVideo marketing is king nowadays, taking over from traditional text-based content because it’s possible to do much more with video, in a short space of time. A well-produced, eye-catching video with a powerful brand message is much more engaging and shareable than a long-winded wall-of-text with some grainy still images. In case you have any doubts, remember that this is the generation that created the YouTube celebrity phenomenon!\\n\\n### Get Personal\\n\\nA crucial aspect to keep in mind is that Millennials aren’t just interested in good videos from brands. They want to know more about the people behind the business. By focusing on people and personal values, you humanize your brand and increase the chance of forging emotional connections with your target audience.\\n\\nOne good example of how to do this is by getting video reviews from real customers. This is clever video marketing with a dose of social proof, helping you build trust in your brand from the good word of happy customers.\\n\\n### User-Generated Videos\\n\\nYou can also hand the power to your audience by encouraging them to interact. GoPro thrives on user-generated content in this way, getting people to submit videos for the chance to win cash rewards. This does wonders for brand awareness, as GoPro receives a lot of engagement plus free social media marketing from all the user videos.\\n\\n### Make it Easy for Viewers\\n\\nNowadays, everyone expects to be able to watch a video anywhere, on any device. Your video content should play on all smartphones, tablets, and desktops. Also, it’s a good idea to include captions in case some people aren’t able to use the volume when they’re watching it.\\n\\n## 3. Take Your Time to Find the Right Influencers\\n\\nInfluencer marketing has been on the rise for several years, and it can be a big part of an effective marketing strategy. While it has some overlap with the traditional celebrity spokesperson advertising model, influencer marketing is often better, as they are more relatable and in-touch with consumers.\\n\\nInfluencers are quite selective about the brands they partner with because they don’t want to alienate their followers by endorsing products or services that don’t make sense for their audience.\\n\\nAs a business seeking to leverage influencer marketing, here are four things to think about:\\n\\n* **Expertise** – Would this influencer be a good match for your content and campaign?\\n* **Reach** – Does this influencer have the social media following you need? Can they engage your audience and attract genuine leads and prospective customers?\\n* **Demographic** – Is the influencer’s audience similar to your company’s buyer persona? Does the influencer connect with the same group of people?\\n* **Notoriety** – Do people like this influencer? Are they famous for admirable reasons? You don’t want to alienate people by associating your brand with someone polarizing or infamous for the wrong reasons.\\n\\nMany people have been slow to get involved with influencers, dismissing it as a fad. However, that is a fallacy, as the signs point to influencers being around for a long time to come. People value the opinions of fellow consumers, more so than the word from corporations and brands.\\n\\nTo reinforce that truth, we can consider how micro-influencers with less than 10,000 followers often generate more engagement than celebrities. Similarly, users with less than 1,000 followers earn likes 8% of the time, compared to a meager 1.7% return for influencers with 1-10 million followers.\\n\\nThis goes to show that the biggest names aren’t always the strongest influencers. Sometimes, using influencers with a small but focused niche can be the way to go.\\n\\n## 4. Know Your Audience\\n\\nMillennials may be the world’s first generation of digital natives, but that doesn’t mean they’re happy to interact with chatbots and social media self-help guides all the time. When they have a problem, they usually want to talk to a real person.\\n\\nBrands must ensure they have a human face, so the business is personable, relatable, and transparent, making it easy for people to get in touch and get answers. If your business fails to do this, you risk losing out. When you make it easy for people to contact you and have two-way conversations, you’ll be able to collect more customer feedback and data.\\n\\nThis approach facilitates smarter decisions about your business, as the customer insights can help you create a more effective marketing strategy, as well as improving your sales and customer service initiatives.\\n\\nUltimately, you must endeavor to learn more about your target audience, continually painting a picture of your ideal customers. By knowing more about their needs, interests, fears, and pain points, you can tailor your business and its offerings to increase customer satisfaction.\\n\\n### Provide An Interactive Experience\\n\\nHistory tells us that people have an innate desire to become a part of something much bigger than themselves. It’s in our nature, and the Millennial generation is a testament to it. They have grown up surrounded by incredible advancements in technology, science, and business.\\n\\nWith social media, interactive gaming, and reality TV, millennials live in a world where it’s possible to get involved in massive global events with just a touch of a button. Marketers should feed this desire and use it to attract attention to their brands, products, and services.\\n\\nYou can do this by experimenting with interactive ads or by running competitions that encourage consumers to get involved. Doing this has mass appeal, and it can drive brand awareness to help grow your brand.\\n\\n### Listen to Consumers\\n\\nMillennials aren’t shy about telling the world what they think. For marketers, that’s good news, as you need to know what your prospects like or don’t like.\\n\\nSocial listening on platforms like Twitter is a useful way of getting acquainted with the latest trends in your market. When you keep tabs on your audience and changing consumer interests, you’ll be more likely to connect with them on what they think matters.\\n\\nEveryone likes to know they are being listened to, especially by the big brands they love. Therefore, it will pay off when your brand is better at listening to customers, as you’ll get the edge on the competition.\\n\\n## 5. Highlight Your Dedication to Privacy\\n\\n88% of Gen Z consumers agree with this statement:\\n\\n“Protecting my privacy is very important to me.”\\n\\nWhile Millennials are the dominant force now, Gen Z is fast on their heels. Studies from IBM show that less than 33% of teenagers are comfortable sharing their personal information online. With the significant changes in GDPR in 2018, major data leaks at Yahoo and Facebook, and the prevalence of somewhat intrusive remarketing ads, the consumers of the future are cautious about privacy.\\n\\nTrust is integral to online selling. People need to believe that brands will protect their personal information, keeping it safe, and only using it to enhance the user experience. If your business can do this successfully, it’s excellent for nurturing brand loyalty, which helps you acquire more customers that will stay with you for years.\\n\\nNowadays, consumers look for signs that companies are serious about privacy protection. For example, you might consider adding elements like this to your website:\\n\\n* SSL – Site Security Layer (aka the ‘Little Green Padlock’ in the URL bar)\\n* Privacy Policy – An official document outlining how you collect customer information, and how you use it.\\n* Cookies – A document that explains how you use cookies to track on-site behaviors and use it to improve your effective marketing strategy.\\n* Secure payment processing – This reassures people their credit card details are safe when they make purchases online.\\n\\nThe mere presence of features like these can increase the trust that a visitor has in a website. An older site that lacks these features can quickly deter people, giving them a poor impression of the brand as a whole.\\n\\nIn the modern era, it’s crucial to collect data on consumers, but businesses must also respect the customer’s concerns about privacy. Try to find a balance to ensure you can build a reputable brand name that inspires loyalty and trust.\\n\\n## Wrap Up\\n\\nSo, there you have five critical aspects of an effective marketing strategy. Today, you have a vast range of techniques, channels, and tools to use to improve your online business. It’s not always easy to get the right combination.\\n\\nWith these five elements, you can develop a solid foundation for any campaign, targeting the youngest demographics that are most willing to embrace brands online.',\n 'In 2013, millennials accounted for $1.3 trillion in consumer spending. Six years on, this bracket of 18-34 year-olds are the largest demographic that marketers must consider. Therefore, if you don’t have an effective marketing strategy, your business could miss out on a lot of potential customers.\\n\\nAside from their numbers, Millennials have a very different mindset to previous generations, and so their choices in regards to shopping and spending aren’t as predictable. What worked for Baby Boomers and Gen X consumers doesn’t usually fare so well with Millennials.\\n\\nWith that in mind, modern marketers must devise an effective marketing strategy that can strike a chord with this tech-savvy demographic. By realizing how they embrace social media, you can leverage tap into the potential this huge audience offers.\\n\\nIn this article, we’ll show you the key areas you should focus on in the modern age.\\n\\n1. Think Differently and Try New Ideas\\n\\nMost – if not all – millennials are digital natives. They grew up with the internet. They remember the dawn of social media, and they have been using smartphones and online retail sites from their teenage years or earlier.\\n\\nOver the years, they have grown accustomed to this reality, and they expect brands to offer a sleek, smooth, and enjoyable online customer journey. They love digital giants like Apple, YouTube, Google, and Netflix for their sophisticated tech and virtually unrivaled experience.\\n\\nTraditional sales pitches like a simple “Buy Now!” call-to-action no longer works with this market. They’ve heard it all before, and they pay no attention to it.\\n\\nAccording to the Center for Generational Kinetics, Millennials prefer to be contacted through these methods (in order of importance):\\n\\n* Text and IM apps, like WhatsApp and Facebook Messenger;\\n* Email, with the subject line being a highly important aspect;\\n* Social media;\\n* Phone calls; and\\n* In-person\\n\\nInstead of hard sales, you need an effective marketing strategy that seeks to experiment with fresh, unique new ideas. You must convince Millennials *why* they need your product or service. You must make them believe that it is the solution to their problems. By highlighting the benefits, you can catch their attention.\\n\\nResearch shows that 54% of Millennials want to start their own companies or have already started one, and 45% would choose a job with a more flexible schedule over a job with a higher pay rate.\\n\\nIt’s clear that this group of consumers think differently than previous generations, and so, it’s vital that marketers approach their advertising campaigns differently.\\n\\n2. Video Marketing is Vital Now\\n\\nTake a moment to think about the flood of information that appears on your social media feed each day. It’s inundated with hundreds and thousands of posts, all competing for the attention of Millennials – a generation of people reputed to have a short attention span. If your post is going to stand out, it needs to be something special.\\n\\nVideo marketing is king nowadays, taking over from traditional text-based content because it’s possible to do much more with video, in a short space of time. A well-produced, eye-catching video with a powerful brand message is much more engaging and shareable than a long-winded wall-of-text with some grainy still images. In case you have any doubts, remember that this is the generation that created the YouTube celebrity phenomenon!\\n\\nGet Personal\\n\\nA crucial aspect to keep in mind is that Millennials aren’t just interested in good videos from brands. They want to know more about the people behind the business. By focusing on people and personal values, you humanize your brand and increase the chance of forging emotional connections with your target audience.\\n\\nOne good example of how to do this is by getting video reviews from real customers. This is clever video marketing with a dose of social proof, helping you build trust in your brand from the good word of happy customers.\\n\\nUser-Generated Videos\\n\\nYou can also hand the power to your audience by encouraging them to interact. GoPro thrives on user-generated content in this way, getting people to submit videos for the chance to win cash rewards. This does wonders for brand awareness, as GoPro receives a lot of engagement plus free social media marketing from all the user videos.\\n\\nMake it Easy for Viewers\\n\\nNowadays, everyone expects to be able to watch a video anywhere, on any device. Your video content should play on all smartphones, tablets, and desktops. Also, it’s a good idea to include captions in case some people aren’t able to use the volume when they’re watching it.\\n\\n3. Take Your Time to Find the Right Influencers\\n\\nInfluencer marketing has been on the rise for several years, and it can be a big part of an effective marketing strategy. While it has some overlap with the traditional celebrity spokesperson advertising model, influencer marketing is often better, as they are more relatable and in-touch with consumers.\\n\\nInfluencers are quite selective about the brands they partner with because they don’t want to alienate their followers by endorsing products or services that don’t make sense for their audience.\\n\\nAs a business seeking to leverage influencer marketing, here are four things to think about:\\n\\n* **Expertise** – Would this influencer be a good match for your content and campaign?\\n* **Reach** – Does this influencer have the social media following you need? Can they engage your audience and attract genuine leads and prospective customers?\\n* **Demographic** – Is the influencer’s audience similar to your company’s buyer persona? Does the influencer connect with the same group of people?\\n* **Notoriety** – Do people like this influencer? Are they famous for admirable reasons? You don’t want to alienate people by associating your brand with someone polarizing or infamous for the wrong reasons.\\n\\nMany people have been slow to get involved with influencers, dismissing it as a fad. However, that is a fallacy, as the signs point to influencers being around for a long time to come. People value the opinions of fellow consumers, more so than the word from corporations and brands.\\n\\nTo reinforce that truth, we can consider how micro-influencers with less than 10,000 followers often generate more engagement than celebrities. Similarly, users with less than 1,000 followers earn likes 8% of the time, compared to a meager 1.7% return for influencers with 1-10 million followers.\\n\\nThis goes to show that the biggest names aren’t always the strongest influencers. Sometimes, using influencers with a small but focused niche can be the way to go.\\n\\n4. Know Your Audience\\n\\nMillennials may be the world’s first generation of digital natives, but that doesn’t mean they’re happy to interact with chatbots and social media self-help guides all the time. When they have a problem, they usually want to talk to a real person.\\n\\nBrands must ensure they have a human face, so the business is personable, relatable, and transparent, making it easy for people to get in touch and get answers. If your business fails to do this, you risk losing out. When you make it easy for people to contact you and have two-way conversations, you’ll be able to collect more customer feedback and data.\\n\\nThis approach facilitates smarter decisions about your business, as the customer insights can help you create a more effective marketing strategy, as well as improving your sales and customer service initiatives.\\n\\nUltimately, you must endeavor to learn more about your target audience, continually painting a picture of your ideal customers. By knowing more about their needs, interests, fears, and pain points, you can tailor your business and its offerings to increase customer satisfaction.\\n\\nProvide An Interactive Experience\\n\\nHistory tells us that people have an innate desire to become a part of something much bigger than themselves. It’s in our nature, and the Millennial generation is a testament to it. They have grown up surrounded by incredible advancements in technology, science, and business.\\n\\nWith social media, interactive gaming, and reality TV, millennials live in a world where it’s possible to get involved in massive global events with just a touch of a button. Marketers should feed this desire and use it to attract attention to their brands, products, and services.\\n\\nYou can do this by experimenting with interactive ads or by running competitions that encourage consumers to get involved. Doing this has mass appeal, and it can drive brand awareness to help grow your brand.\\n\\nListen to Consumers\\n\\nMillennials aren’t shy about telling the world what they think. For marketers, that’s good news, as you need to know what your prospects like or don’t like.\\n\\nSocial listening on platforms like Twitter is a useful way of getting acquainted with the latest trends in your market. When you keep tabs on your audience and changing consumer interests, you’ll be more likely to connect with them on what they think matters.\\n\\nEveryone likes to know they are being listened to, especially by the big brands they love. Therefore, it will pay off when your brand is better at listening to customers, as you’ll get the edge on the competition.\\n\\n5. Highlight Your Dedication to Privacy\\n\\n88% of Gen Z consumers agree with this statement:\\n\\n“Protecting my privacy is very important to me.”\\n\\nWhile Millennials are the dominant force now, Gen Z is fast on their heels. Studies from IBM show that less than 33% of teenagers are comfortable sharing their personal information online. With the significant changes in GDPR in 2018, major data leaks at Yahoo and Facebook, and the prevalence of somewhat intrusive remarketing ads, the consumers of the future are cautious about privacy.\\n\\nTrust is integral to online selling. People need to believe that brands will protect their personal information, keeping it safe, and only using it to enhance the user experience. If your business can do this successfully, it’s excellent for nurturing brand loyalty, which helps you acquire more customers that will stay with you for years.\\n\\nNowadays, consumers look for signs that companies are serious about privacy protection. For example, you might consider adding elements like this to your website:\\n\\n* SSL – Site Security Layer (aka the ‘Little Green Padlock’ in the URL bar)\\n* Privacy Policy – An official document outlining how you collect customer information, and how you use it.\\n* Cookies – A document that explains how you use cookies to track on-site behaviors and use it to improve your effective marketing strategy.\\n* Secure payment processing – This reassures people their credit card details are safe when they make purchases online.\\n\\nThe mere presence of features like these can increase the trust that a visitor has in a website. An older site that lacks these features can quickly deter people, giving them a poor impression of the brand as a whole.\\n\\nIn the modern era, it’s crucial to collect data on consumers, but businesses must also respect the customer’s concerns about privacy. Try to find a balance to ensure you can build a reputable brand name that inspires loyalty and trust.\\n\\nWrap Up\\n\\nSo, there you have five critical aspects of an effective marketing strategy. Today, you have a vast range of techniques, channels, and tools to use to improve your online business. It’s not always easy to get the right combination.\\n\\nWith these five elements, you can develop a solid foundation for any campaign, targeting the youngest demographics that are most willing to embrace brands online.']"
     },
     "execution_count": 12,
     "metadata": {},
     "output_type": "execute_result"
    }
   ],
   "source": [
    "target_df_selftexts = target_df['selftext'].tolist()\n",
    "target_df_selftexts[:3]"
   ],
   "metadata": {
    "collapsed": false,
    "pycharm": {
     "name": "#%%\n"
    }
   }
  },
  {
   "cell_type": "markdown",
   "source": [
    "## Topic Modeling with Gensim"
   ],
   "metadata": {
    "collapsed": false,
    "pycharm": {
     "name": "#%% md\n"
    }
   }
  },
  {
   "cell_type": "markdown",
   "source": [
    "Selftext often contain markdown elements and other things that are not words (example: emojis and url links). These are generally not meaningful if we are not using a contextualized word embedding. We can add pipelines in gensim to filter out these words. (TODO)"
   ],
   "metadata": {
    "collapsed": false,
    "pycharm": {
     "name": "#%% md\n"
    }
   }
  },
  {
   "cell_type": "markdown",
   "source": [
    "### Processing all selftext together\n",
    "We can also do rolling selftext by the month/week"
   ],
   "metadata": {
    "collapsed": false
   }
  },
  {
   "cell_type": "code",
   "execution_count": 13,
   "outputs": [],
   "source": [
    "# load all selftext into gensim\n",
    "all_selftext_dir = Path.cwd() / 'data/all_selftexts'\n",
    "corpus = gensim.corpora.TextDirectoryCorpus(str(all_selftext_dir))"
   ],
   "metadata": {
    "collapsed": false,
    "pycharm": {
     "name": "#%%\n"
    }
   }
  }
 ],
 "metadata": {
  "kernelspec": {
   "display_name": "Python 3",
   "language": "python",
   "name": "python3"
  },
  "language_info": {
   "codemirror_mode": {
    "name": "ipython",
    "version": 2
   },
   "file_extension": ".py",
   "mimetype": "text/x-python",
   "name": "python",
   "nbconvert_exporter": "python",
   "pygments_lexer": "ipython2",
   "version": "2.7.6"
  }
 },
 "nbformat": 4,
 "nbformat_minor": 0
}