{
 "cells": [
  {
   "cell_type": "markdown",
   "metadata": {
    "collapsed": true,
    "pycharm": {
     "name": "#%% md\n"
    }
   },
   "source": [
    "# Exploring Crawled Reddit Data"
   ]
  },
  {
   "cell_type": "code",
   "execution_count": 1,
   "outputs": [],
   "source": [
    "\n",
    "import json\n",
    "from pathlib import Path\n",
    "\n",
    "import pandas as pd\n",
    "# jupyter\n",
    "from tqdm import tqdm"
   ],
   "metadata": {
    "collapsed": false,
    "pycharm": {
     "name": "#%%\n"
    }
   }
  },
  {
   "cell_type": "code",
   "execution_count": 2,
   "outputs": [],
   "source": [
    "# some additional configs, pertains to how certain cells are run/behave\n",
    "write_to_db = True\n",
    "db_config = {\n",
    "    'host': '10.20.4.246',\n",
    "    'port': 3306,\n",
    "    'user': 'sandman',\n",
    "    'database': 'cs6471'\n",
    "}"
   ],
   "metadata": {
    "collapsed": false,
    "pycharm": {
     "name": "#%%\n"
    }
   }
  },
  {
   "cell_type": "code",
   "execution_count": 3,
   "outputs": [
    {
     "data": {
      "text/plain": "WindowsPath('E:/gatech/courses/cs-6471-computational-social-science/project/utils/reddit')"
     },
     "execution_count": 3,
     "metadata": {},
     "output_type": "execute_result"
    }
   ],
   "source": [
    "Path.cwd()"
   ],
   "metadata": {
    "collapsed": false,
    "pycharm": {
     "name": "#%%\n"
    }
   }
  },
  {
   "cell_type": "code",
   "execution_count": 4,
   "outputs": [],
   "source": [
    "data_dir = Path.cwd() / 'data/PushShiftAndRedditAPICrawler-output'\n",
    "data_files = list(data_dir.glob('*.json'))"
   ],
   "metadata": {
    "collapsed": false,
    "pycharm": {
     "name": "#%%\n"
    }
   }
  },
  {
   "cell_type": "code",
   "execution_count": 5,
   "outputs": [
    {
     "name": "stderr",
     "output_type": "stream",
     "text": [
      "100%|██████████| 20167/20167 [00:07<00:00, 2568.06it/s]\n"
     ]
    }
   ],
   "source": [
    "# load submissions and comments from json files\n",
    "all_submissions = []\n",
    "all_comments = []\n",
    "\n",
    "for f in tqdm(data_files):\n",
    "    f: Path\n",
    "    data = json.load(f.open(mode='r', encoding='utf-8'))\n",
    "    submission = data['submission']['data']\n",
    "\n",
    "    # data['comments'] = {'type': 't1', 'data': 'actual comment data object'}\n",
    "    comments = map(lambda c: c['data'], data['comments'])\n",
    "\n",
    "    all_submissions.append(submission)\n",
    "    all_comments.extend(comments)"
   ],
   "metadata": {
    "collapsed": false,
    "pycharm": {
     "name": "#%%\n"
    }
   }
  },
  {
   "cell_type": "code",
   "execution_count": 6,
   "outputs": [
    {
     "data": {
      "text/plain": "        author author_fullname   created_utc       name  num_comments  \\\n0    [deleted]             NaN  1.546344e+09  t3_abhq6i             2   \n1      amboris        t2_god9h  1.546349e+09  t3_abi6je             9   \n2    [deleted]             NaN  1.546350e+09  t3_abiah9            43   \n3  EndMeetsEnd        t2_rln9c  1.546376e+09  t3_abltgc             0   \n4    Armane407     t2_1alkf8uj  1.546376e+09  t3_ablxx1             1   \n\n   num_crossposts  num_duplicates  score  \\\n0               0               0      2   \n1               0               0      5   \n2               0               0    221   \n3               0               1      1   \n4               0               0      1   \n\n                                            selftext subreddit_id  \\\n0                                          [deleted]     t5_2qhlc   \n1  This post will bring me a lot of downvotes but...     t5_2tk0s   \n2                                          [deleted]     t5_2qh1q   \n3                                                        t5_skup3   \n4  \\n\\n￼\\n\\nLATEST NEWS\\n\\nFirewall Zero Hour Dev...     t5_9krdo   \n\n   subreddit_name_prefixed  subreddit_subscribers subreddit_type  \\\n0                r/privacy                1245595         public   \n1       r/unpopularopinion                2383260         public   \n2                  r/india                 765796         public   \n3  r/TheLibertarianProject                      2         public   \n4       r/FireWallZeroHour                   5447         public   \n\n                                               title  \n0                       Anyone tried Jami Messenger?  \n1   This is why i hate Discord and you should to! :/  \n2                     Ola's Privacy Policy is creepy  \n3  Data Privacy Scandals and Public Policy Pickin...  \n4                                       Nice to know  ",
      "text/html": "<div>\n<style scoped>\n    .dataframe tbody tr th:only-of-type {\n        vertical-align: middle;\n    }\n\n    .dataframe tbody tr th {\n        vertical-align: top;\n    }\n\n    .dataframe thead th {\n        text-align: right;\n    }\n</style>\n<table border=\"1\" class=\"dataframe\">\n  <thead>\n    <tr style=\"text-align: right;\">\n      <th></th>\n      <th>author</th>\n      <th>author_fullname</th>\n      <th>created_utc</th>\n      <th>name</th>\n      <th>num_comments</th>\n      <th>num_crossposts</th>\n      <th>num_duplicates</th>\n      <th>score</th>\n      <th>selftext</th>\n      <th>subreddit_id</th>\n      <th>subreddit_name_prefixed</th>\n      <th>subreddit_subscribers</th>\n      <th>subreddit_type</th>\n      <th>title</th>\n    </tr>\n  </thead>\n  <tbody>\n    <tr>\n      <th>0</th>\n      <td>[deleted]</td>\n      <td>NaN</td>\n      <td>1.546344e+09</td>\n      <td>t3_abhq6i</td>\n      <td>2</td>\n      <td>0</td>\n      <td>0</td>\n      <td>2</td>\n      <td>[deleted]</td>\n      <td>t5_2qhlc</td>\n      <td>r/privacy</td>\n      <td>1245595</td>\n      <td>public</td>\n      <td>Anyone tried Jami Messenger?</td>\n    </tr>\n    <tr>\n      <th>1</th>\n      <td>amboris</td>\n      <td>t2_god9h</td>\n      <td>1.546349e+09</td>\n      <td>t3_abi6je</td>\n      <td>9</td>\n      <td>0</td>\n      <td>0</td>\n      <td>5</td>\n      <td>This post will bring me a lot of downvotes but...</td>\n      <td>t5_2tk0s</td>\n      <td>r/unpopularopinion</td>\n      <td>2383260</td>\n      <td>public</td>\n      <td>This is why i hate Discord and you should to! :/</td>\n    </tr>\n    <tr>\n      <th>2</th>\n      <td>[deleted]</td>\n      <td>NaN</td>\n      <td>1.546350e+09</td>\n      <td>t3_abiah9</td>\n      <td>43</td>\n      <td>0</td>\n      <td>0</td>\n      <td>221</td>\n      <td>[deleted]</td>\n      <td>t5_2qh1q</td>\n      <td>r/india</td>\n      <td>765796</td>\n      <td>public</td>\n      <td>Ola's Privacy Policy is creepy</td>\n    </tr>\n    <tr>\n      <th>3</th>\n      <td>EndMeetsEnd</td>\n      <td>t2_rln9c</td>\n      <td>1.546376e+09</td>\n      <td>t3_abltgc</td>\n      <td>0</td>\n      <td>0</td>\n      <td>1</td>\n      <td>1</td>\n      <td></td>\n      <td>t5_skup3</td>\n      <td>r/TheLibertarianProject</td>\n      <td>2</td>\n      <td>public</td>\n      <td>Data Privacy Scandals and Public Policy Pickin...</td>\n    </tr>\n    <tr>\n      <th>4</th>\n      <td>Armane407</td>\n      <td>t2_1alkf8uj</td>\n      <td>1.546376e+09</td>\n      <td>t3_ablxx1</td>\n      <td>1</td>\n      <td>0</td>\n      <td>0</td>\n      <td>1</td>\n      <td>\\n\\n￼\\n\\nLATEST NEWS\\n\\nFirewall Zero Hour Dev...</td>\n      <td>t5_9krdo</td>\n      <td>r/FireWallZeroHour</td>\n      <td>5447</td>\n      <td>public</td>\n      <td>Nice to know</td>\n    </tr>\n  </tbody>\n</table>\n</div>"
     },
     "execution_count": 6,
     "metadata": {},
     "output_type": "execute_result"
    }
   ],
   "source": [
    "used_columns_df_submissions = [\n",
    "    'author',\n",
    "    'author_fullname',\n",
    "    'created_utc',  # float64\n",
    "    'name',  # text used as fullname\n",
    "    'num_comments',  # int64\n",
    "    'num_crossposts',  # int64\n",
    "    'num_duplicates',  # int64\n",
    "    'score',  # int64 num upvotes\n",
    "    'selftext',  # longtext\n",
    "    'subreddit_id',  # text fullname of subreddit\n",
    "    'subreddit_name_prefixed',  # text prefixed name of the subreddit\n",
    "    'subreddit_subscribers',  # 'int64'\n",
    "    'subreddit_type',  # text\n",
    "    'title',  # text\n",
    "]\n",
    "df_submissions = pd.DataFrame(all_submissions)[used_columns_df_submissions]\n",
    "df_submissions.head()"
   ],
   "metadata": {
    "collapsed": false,
    "pycharm": {
     "name": "#%%\n"
    }
   }
  },
  {
   "cell_type": "code",
   "execution_count": 7,
   "outputs": [
    {
     "data": {
      "text/plain": "             author author_fullname  \\\n0         [deleted]             NaN   \n1           tedkotz        t2_hnvc9   \n2     AutoModerator        t2_6l4z3   \n3  Flamingpanda2000     t2_1bd437bt   \n4           Vic9420        t2_mlbi9   \n\n                                                body  controversiality  \\\n0                                          [deleted]               0.0   \n1  They are not a service provider. That is proba...               0.0   \n2  Hi everyone! Please make sure to **upvote** we...               0.0   \n3  Nobody’s going to downvote your opinion becaus...               0.0   \n4  I use Discord,but only as a way to chat with a...               0.0   \n\n    created_utc  depth        name  parent_id  score subreddit_id  \\\n0  1.546554e+09      0  t1_ed6jj48  t3_abhq6i    5.0     t5_2qhlc   \n1  1.554926e+09      0  t1_ekknevu  t3_abhq6i    1.0     t5_2qhlc   \n2  1.546349e+09      0  t1_ed0ev41  t3_abi6je    1.0     t5_2tk0s   \n3  1.546350e+09      0  t1_ed0f60a  t3_abi6je    7.0     t5_2tk0s   \n4  1.546350e+09      0  t1_ed0f89z  t3_abi6je    2.0     t5_2tk0s   \n\n  subreddit_name_prefixed  \n0               r/privacy  \n1               r/privacy  \n2      r/unpopularopinion  \n3      r/unpopularopinion  \n4      r/unpopularopinion  ",
      "text/html": "<div>\n<style scoped>\n    .dataframe tbody tr th:only-of-type {\n        vertical-align: middle;\n    }\n\n    .dataframe tbody tr th {\n        vertical-align: top;\n    }\n\n    .dataframe thead th {\n        text-align: right;\n    }\n</style>\n<table border=\"1\" class=\"dataframe\">\n  <thead>\n    <tr style=\"text-align: right;\">\n      <th></th>\n      <th>author</th>\n      <th>author_fullname</th>\n      <th>body</th>\n      <th>controversiality</th>\n      <th>created_utc</th>\n      <th>depth</th>\n      <th>name</th>\n      <th>parent_id</th>\n      <th>score</th>\n      <th>subreddit_id</th>\n      <th>subreddit_name_prefixed</th>\n    </tr>\n  </thead>\n  <tbody>\n    <tr>\n      <th>0</th>\n      <td>[deleted]</td>\n      <td>NaN</td>\n      <td>[deleted]</td>\n      <td>0.0</td>\n      <td>1.546554e+09</td>\n      <td>0</td>\n      <td>t1_ed6jj48</td>\n      <td>t3_abhq6i</td>\n      <td>5.0</td>\n      <td>t5_2qhlc</td>\n      <td>r/privacy</td>\n    </tr>\n    <tr>\n      <th>1</th>\n      <td>tedkotz</td>\n      <td>t2_hnvc9</td>\n      <td>They are not a service provider. That is proba...</td>\n      <td>0.0</td>\n      <td>1.554926e+09</td>\n      <td>0</td>\n      <td>t1_ekknevu</td>\n      <td>t3_abhq6i</td>\n      <td>1.0</td>\n      <td>t5_2qhlc</td>\n      <td>r/privacy</td>\n    </tr>\n    <tr>\n      <th>2</th>\n      <td>AutoModerator</td>\n      <td>t2_6l4z3</td>\n      <td>Hi everyone! Please make sure to **upvote** we...</td>\n      <td>0.0</td>\n      <td>1.546349e+09</td>\n      <td>0</td>\n      <td>t1_ed0ev41</td>\n      <td>t3_abi6je</td>\n      <td>1.0</td>\n      <td>t5_2tk0s</td>\n      <td>r/unpopularopinion</td>\n    </tr>\n    <tr>\n      <th>3</th>\n      <td>Flamingpanda2000</td>\n      <td>t2_1bd437bt</td>\n      <td>Nobody’s going to downvote your opinion becaus...</td>\n      <td>0.0</td>\n      <td>1.546350e+09</td>\n      <td>0</td>\n      <td>t1_ed0f60a</td>\n      <td>t3_abi6je</td>\n      <td>7.0</td>\n      <td>t5_2tk0s</td>\n      <td>r/unpopularopinion</td>\n    </tr>\n    <tr>\n      <th>4</th>\n      <td>Vic9420</td>\n      <td>t2_mlbi9</td>\n      <td>I use Discord,but only as a way to chat with a...</td>\n      <td>0.0</td>\n      <td>1.546350e+09</td>\n      <td>0</td>\n      <td>t1_ed0f89z</td>\n      <td>t3_abi6je</td>\n      <td>2.0</td>\n      <td>t5_2tk0s</td>\n      <td>r/unpopularopinion</td>\n    </tr>\n  </tbody>\n</table>\n</div>"
     },
     "execution_count": 7,
     "metadata": {},
     "output_type": "execute_result"
    }
   ],
   "source": [
    "used_columns_df_comments = [\n",
    "    'author',\n",
    "    'author_fullname',\n",
    "    'body',  # longtext content of the comment\n",
    "    'controversiality',  # float64\n",
    "    'created_utc',  # float64\n",
    "    'depth',  # int\n",
    "    'name',  # text fullname of the comment\n",
    "    'parent_id',  # text fullname of the parent\n",
    "    'score',  # int64\n",
    "    'subreddit_id',  # text fullname of the subreddit\n",
    "    'subreddit_name_prefixed',\n",
    "]\n",
    "df_comments = pd.DataFrame(all_comments)[used_columns_df_comments]\n",
    "df_comments.head()"
   ],
   "metadata": {
    "collapsed": false,
    "pycharm": {
     "name": "#%%\n"
    }
   }
  },
  {
   "cell_type": "code",
   "execution_count": 14,
   "outputs": [
    {
     "name": "stdout",
     "output_type": "stream",
     "text": [
      "Using SQL DB, config: {'host': '10.20.4.246', 'port': 3306, 'user': 'sandman', 'database': 'cs6471'}\n",
      "{'pool': <sqlalchemy.pool.impl.QueuePool object at 0x000001A66C5F4448>, 'url': mysql+mysqlconnector://sandman@10.20.4.246:3306/cs6471, 'dialect': <sqlalchemy.dialects.mysql.mysqlconnector.MySQLDialect_mysqlconnector object at 0x000001A66C4562C8>, '_echo': False, 'logger': <Logger sqlalchemy.engine.Engine (WARNING)>, 'hide_parameters': False, '_compiled_cache': {}}\n",
      "Writing submissions dataframe to DB\n",
      "Writing comments to DB\n"
     ]
    }
   ],
   "source": [
    "if write_to_db:\n",
    "    # get a database connection\n",
    "    import sqlalchemy\n",
    "    import sqlalchemy.dialects.mysql\n",
    "    from sqlalchemy.dialects.mysql import TEXT, LONGTEXT, BIGINT, DOUBLE\n",
    "\n",
    "    print(f'Using SQL DB, config: {db_config}')\n",
    "    engine = sqlalchemy.create_engine(\n",
    "        f'mysql+mysqlconnector://{db_config[\"user\"]}@{db_config[\"host\"]}:{db_config[\"port\"]}/{db_config[\"database\"]}',\n",
    "        echo=False)\n",
    "    print(vars(engine))\n",
    "    print('Writing submissions dataframe to DB')\n",
    "\n",
    "    # self text is very long, we need to explicitly set this to longtext\n",
    "    df_submissions.to_sql(\n",
    "        name='submissions',\n",
    "        con=engine,\n",
    "        if_exists='replace',\n",
    "        method='multi',\n",
    "        chunksize=512,\n",
    "        dtype={\n",
    "            'author': TEXT,\n",
    "            'author_fullname': TEXT,\n",
    "            'created_utc': BIGINT,  # float64\n",
    "            'name': TEXT,  # text used as fullname\n",
    "            'num_comments': BIGINT,  # int64\n",
    "            'num_crossposts': BIGINT,  # int64\n",
    "            'num_duplicates': BIGINT,  # int64\n",
    "            'score': BIGINT,  # int64 num upvotes\n",
    "            'selftext': LONGTEXT,  # longtext\n",
    "            'subreddit_id': TEXT,  # text fullname of subreddit\n",
    "            'subreddit_name_prefixed': TEXT,  # text prefixed name of the subreddit\n",
    "            'subreddit_subscribers': BIGINT,  # 'int64'\n",
    "            'subreddit_type': TEXT,  # text\n",
    "            'title': TEXT,  # text\n",
    "        }\n",
    "    )\n",
    "    print(f'Writing comments to DB')\n",
    "    # body is very long, we need to explicitly set this to longtext\n",
    "    df_comments.to_sql(\n",
    "        name='comments',\n",
    "        con=engine,\n",
    "        if_exists='replace',\n",
    "        method='multi',\n",
    "        chunksize=512,\n",
    "        dtype={\n",
    "            'author': TEXT,\n",
    "            'author_fullname': TEXT,\n",
    "            'body': LONGTEXT,  # longtext content of the comment\n",
    "            'controversiality': DOUBLE,  # float64\n",
    "            'created_utc': BIGINT,  # float64\n",
    "            'depth': BIGINT,  # int\n",
    "            'name': TEXT,  # text fullname of the comment\n",
    "            'parent_id': TEXT,  # text fullname of the parent\n",
    "            'score': BIGINT,  # int64\n",
    "            'subreddit_id': TEXT,  # text fullname of the subreddit\n",
    "            'subreddit_name_prefixed': TEXT,\n",
    "        }\n",
    "    )"
   ],
   "metadata": {
    "collapsed": false,
    "pycharm": {
     "name": "#%%\n"
    }
   }
  },
  {
   "cell_type": "code",
   "execution_count": null,
   "outputs": [],
   "source": [
    "df_submissions.iloc[0]['user_reports'].dtype"
   ],
   "metadata": {
    "collapsed": false,
    "pycharm": {
     "name": "#%%\n"
    }
   }
  },
  {
   "cell_type": "code",
   "execution_count": 11,
   "outputs": [
    {
     "ename": "TypeError",
     "evalue": "astype() got an unexpected keyword argument 'inplace'",
     "output_type": "error",
     "traceback": [
      "\u001B[1;31m---------------------------------------------------------------------------\u001B[0m",
      "\u001B[1;31mTypeError\u001B[0m                                 Traceback (most recent call last)",
      "\u001B[1;32m~\\AppData\\Local\\Temp\\ipykernel_10536\\2926302203.py\u001B[0m in \u001B[0;36m<module>\u001B[1;34m\u001B[0m\n\u001B[1;32m----> 1\u001B[1;33m \u001B[0mdf_submissions\u001B[0m\u001B[1;33m[\u001B[0m\u001B[1;34m'selftext'\u001B[0m\u001B[1;33m]\u001B[0m\u001B[1;33m.\u001B[0m\u001B[0mastype\u001B[0m\u001B[1;33m(\u001B[0m\u001B[0mstr\u001B[0m\u001B[1;33m,\u001B[0m \u001B[0minplace\u001B[0m\u001B[1;33m=\u001B[0m\u001B[1;32mTrue\u001B[0m\u001B[1;33m)\u001B[0m\u001B[1;33m\u001B[0m\u001B[1;33m\u001B[0m\u001B[0m\n\u001B[0m",
      "\u001B[1;31mTypeError\u001B[0m: astype() got an unexpected keyword argument 'inplace'"
     ]
    }
   ],
   "source": [
    "df_submissions['selftext'].astype(str, inplace=True)"
   ],
   "metadata": {
    "collapsed": false,
    "pycharm": {
     "name": "#%%\n"
    }
   }
  },
  {
   "cell_type": "code",
   "execution_count": null,
   "outputs": [],
   "source": [],
   "metadata": {
    "collapsed": false,
    "pycharm": {
     "name": "#%%\n"
    }
   }
  }
 ],
 "metadata": {
  "kernelspec": {
   "display_name": "Python 3",
   "language": "python",
   "name": "python3"
  },
  "language_info": {
   "codemirror_mode": {
    "name": "ipython",
    "version": 2
   },
   "file_extension": ".py",
   "mimetype": "text/x-python",
   "name": "python",
   "nbconvert_exporter": "python",
   "pygments_lexer": "ipython2",
   "version": "2.7.6"
  }
 },
 "nbformat": 4,
 "nbformat_minor": 0
}